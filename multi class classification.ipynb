{
 "cells": [
  {
   "cell_type": "code",
   "execution_count": 1,
   "id": "37689fd1",
   "metadata": {},
   "outputs": [],
   "source": [
    "# CODE TO SEGREGATE BETWEEN IMAGES AND PDFS\n",
    "\n",
    "import os\n",
    "import glob\n",
    "import shutil\n",
    "\n",
    "source_folder = 'C:\\\\Users\\\\DELL\\\\Documents\\\\TVS NEXT\\\\lab reports samples\\\\samples of urine tests'  # Specify the path to the source folder\n",
    "pdf_folder = 'C:\\\\Users\\\\DELL\\\\Documents\\\\TVS NEXT\\\\samples of urine tests\\\\img'  # Specify the path to the PDF folder\n",
    "\n",
    "# Create the destination folder if it doesn't exist\n",
    "if not os.path.exists(pdf_folder):\n",
    "    os.makedirs(pdf_folder)\n",
    "\n",
    "# Recursive directory traversal\n",
    "for root, dirs, files in os.walk(source_folder):\n",
    "    for file in files:\n",
    "        file_path = os.path.join(root, file)  # Get the full path of the file\n",
    "        if file.lower().endswith('.jpg'):  # Check if it's a PDF file\n",
    "            # Move the PDF file to the PDF folder\n",
    "            shutil.move(file_path, os.path.join(pdf_folder, file))\n"
   ]
  },
  {
   "cell_type": "code",
   "execution_count": null,
   "id": "ad7d5b10",
   "metadata": {},
   "outputs": [],
   "source": [
    "# extract text from images and store them in a separate text file created for each image with the same name\n",
    "\n",
    "import os\n",
    "import pytesseract as p\n",
    "from PIL import Image\n",
    "\n",
    "folder_path = 'C:\\\\Users\\\\DELL\\\\Documents\\\\TVS NEXT\\\\final project data\\\\Comprehensive Metabolic Panel'\n",
    "folder_path2 = 'C:\\\\Users\\\\DELL\\\\Documents\\\\TVS NEXT\\\\final project data\\\\text files\\\\Comprehensive Metabolic Panel txt'\n",
    "\n",
    "\n",
    "for filename in os.listdir(folder_path):\n",
    "    if filename.endswith(('.jpg', '.png')):\n",
    "        image_path = os.path.join(folder_path, filename)\n",
    "        image = Image.open(image_path)\n",
    "        text = p.image_to_string(image)\n",
    "        \n",
    "        # Create a text file with the same name as the image\n",
    "        text_file_name = os.path.splitext(filename)[0] + '.txt'\n",
    "        text_file_path = os.path.join(folder_path2, text_file_name)\n",
    "        \n",
    "        with open(text_file_path, 'w', encoding='utf-8') as file:\n",
    "            file.write(text)\n"
   ]
  },
  {
   "cell_type": "code",
   "execution_count": null,
   "id": "eaa9855d",
   "metadata": {
    "scrolled": true
   },
   "outputs": [],
   "source": [
    "#pip install pdfminer.six"
   ]
  },
  {
   "cell_type": "code",
   "execution_count": null,
   "id": "9afc1241",
   "metadata": {},
   "outputs": [],
   "source": [
    "import os\n",
    "from pdfminer.high_level import extract_text\n",
    "\n",
    "folder_path = 'C:\\\\Users\\\\DELL\\\\Documents\\\\TVS NEXT\\\\final project data\\\\data\\\\Womens Health\\\\Spinal Muscular Atrophy SMA'\n",
    "folder_path2 = 'C:\\\\Users\\\\DELL\\\\Documents\\\\TVS NEXT\\\\final project data\\\\data\\\\Womens Health\\Spinal Muscular Atrophy SMA'\n",
    "\n",
    "for filename in os.listdir(folder_path):\n",
    "    if filename.endswith('.pdf'):\n",
    "        file_path = os.path.join(folder_path, filename)\n",
    "        \n",
    "        try:\n",
    "            text = extract_text(file_path)\n",
    "        except Exception as e:\n",
    "            print(f\"Error extracting text from {filename}: {str(e)}\")\n",
    "            continue\n",
    "        \n",
    "        # Create a text file with the same name as the PDF file\n",
    "        text_file_name = os.path.splitext(filename)[0] + '.txt'\n",
    "        text_file_path = os.path.join(folder_path2, text_file_name)\n",
    "        \n",
    "        with open(text_file_path, 'w', encoding='utf-8') as file:\n",
    "            file.write(text)\n",
    "            \n",
    "        print(f\"Text extracted from {filename} and saved to {text_file_path}\")\n"
   ]
  },
  {
   "cell_type": "markdown",
   "id": "651e662b",
   "metadata": {},
   "source": [
    "# OTHER LAB REPORTS"
   ]
  },
  {
   "cell_type": "code",
   "execution_count": 1,
   "id": "40f42627",
   "metadata": {},
   "outputs": [],
   "source": [
    "#READ INDIVIDUAL FILES AND ADD THEM TO A DATAFRAME"
   ]
  },
  {
   "cell_type": "code",
   "execution_count": 260,
   "id": "40947d50",
   "metadata": {},
   "outputs": [],
   "source": [
    "import os\n",
    "import pandas as pd\n",
    "\n",
    "folder_path = 'C:\\\\Users\\\\DELL\\\\Documents\\\\TVS NEXT\\\\final project data\\\\text files\\\\other lab reports txt'  # Replace with the actual folder path\n",
    "\n",
    "others_data=[]\n",
    "\n",
    "for file_name in os.listdir(folder_path):\n",
    "    if file_name.endswith('.txt'):\n",
    "        file_path = os.path.join(folder_path, file_name)\n",
    "        with open(file_path, 'r') as file:\n",
    "            text = file.read()\n",
    "            others_data.append(text)\n"
   ]
  },
  {
   "cell_type": "code",
   "execution_count": 261,
   "id": "910e0079",
   "metadata": {},
   "outputs": [],
   "source": [
    "#ADD DATA TO DATAFRAME\n",
    "\n",
    "import pandas as pd\n",
    "\n",
    "data2 = others_data  \n",
    "data1 = []\n",
    "data1.extend([1] * len(data2))\n",
    "\n",
    "o_df = pd.DataFrame(columns=['Label', 'Text'])\n",
    "o_df['Label'] = data1\n",
    "o_df['Text'] = data2\n"
   ]
  },
  {
   "cell_type": "markdown",
   "id": "0f00b689",
   "metadata": {},
   "source": [
    "# PREPROCESSING"
   ]
  },
  {
   "cell_type": "code",
   "execution_count": 262,
   "id": "3d95302e",
   "metadata": {},
   "outputs": [],
   "source": [
    "# REMOVE LINE BREAKS\n",
    "\n",
    "import pandas as pd\n",
    "\n",
    "o_df['Text'] = o_df['Text'].replace(r'\\r\\n|\\n|\\r', ' ', regex=True)\n"
   ]
  },
  {
   "cell_type": "code",
   "execution_count": 263,
   "id": "7c9d31ee",
   "metadata": {},
   "outputs": [],
   "source": [
    "import pandas as pd\n",
    "\n",
    "o_df['Text'] = o_df['Text'].apply(lambda x: x.lower())\n"
   ]
  },
  {
   "cell_type": "code",
   "execution_count": 264,
   "id": "b9dea99a",
   "metadata": {},
   "outputs": [],
   "source": [
    "# REMOVE EMAIL IDS\n",
    "\n",
    "import re\n",
    "\n",
    "def email(text):\n",
    "    pattern = r'\\b[A-Za-z0-9._%+-]+@[A-Za-z0-9.-]+\\.[A-Z|a-z]{2,}\\b'\n",
    "    text_without_emails = re.sub(pattern, '', text)\n",
    "    return text_without_emails\n",
    "\n",
    "o_df['Text'] = o_df['Text'].apply(email)\n"
   ]
  },
  {
   "cell_type": "code",
   "execution_count": 265,
   "id": "9a56e11f",
   "metadata": {},
   "outputs": [],
   "source": [
    "# REMOVE URLS\n",
    "\n",
    "import re\n",
    "\n",
    "def url(text):\n",
    "    url_pattern = re.compile(r\"http[s]?://\\S+|www\\.\\S+\")\n",
    "    text_without_urls = re.sub(url_pattern, '', text) \n",
    "    return text_without_urls\n",
    "\n",
    "o_df['Text'] = o_df['Text'].apply(url)\n"
   ]
  },
  {
   "cell_type": "code",
   "execution_count": 266,
   "id": "5c33e55e",
   "metadata": {},
   "outputs": [],
   "source": [
    "# REMOVE SPECIAL CHARACTERS\n",
    "\n",
    "import re\n",
    "def sc(text):\n",
    "    text_after_removal = re.sub(r'[^a-zA-Z0-9\\s]', ' ', text) #special charecters were removed\n",
    "    return text_after_removal\n",
    "\n",
    "o_df['Text'] = o_df['Text'].apply(sc)"
   ]
  },
  {
   "cell_type": "code",
   "execution_count": 267,
   "id": "520e7d96",
   "metadata": {},
   "outputs": [
    {
     "name": "stderr",
     "output_type": "stream",
     "text": [
      "[nltk_data] Downloading package stopwords to\n",
      "[nltk_data]     C:\\Users\\DELL\\AppData\\Roaming\\nltk_data...\n",
      "[nltk_data]   Package stopwords is already up-to-date!\n"
     ]
    }
   ],
   "source": [
    "# REMOVE STOPWORDS\n",
    "\n",
    "import nltk\n",
    "from nltk.corpus import stopwords\n",
    "\n",
    "nltk.download('stopwords')\n",
    "stop_words = set(stopwords.words('english'))\n",
    "\n",
    "def sw(text):\n",
    "    tokens = text.split()\n",
    "    filtered_tokens = [word for word in tokens if word not in stop_words]\n",
    "    filtered_text = ' '.join(filtered_tokens)\n",
    "    return filtered_text\n",
    "\n",
    "o_df['Text'] = o_df['Text'].apply(sw)"
   ]
  },
  {
   "cell_type": "markdown",
   "id": "70d57e3e",
   "metadata": {},
   "source": [
    "# BLOOD TEST REPORTS"
   ]
  },
  {
   "cell_type": "code",
   "execution_count": 268,
   "id": "a76722bc",
   "metadata": {},
   "outputs": [],
   "source": [
    "import os\n",
    "import pandas as pd\n",
    "\n",
    "folder_path = 'C:\\\\Users\\\\DELL\\\\Documents\\\\TVS NEXT\\\\final project data\\\\text files\\\\samples of blood tests txt'  # Replace with the actual folder path\n",
    "\n",
    "blood_data=[]\n",
    "\n",
    "for file_name in os.listdir(folder_path):\n",
    "    if file_name.endswith('.txt'):\n",
    "        file_path = os.path.join(folder_path, file_name)\n",
    "        with open(file_path, 'r') as file:\n",
    "            text = file.read()\n",
    "            blood_data.append(text)\n"
   ]
  },
  {
   "cell_type": "code",
   "execution_count": 269,
   "id": "7089b0be",
   "metadata": {},
   "outputs": [],
   "source": [
    "#ADD DATA TO DATAFRAME\n",
    "\n",
    "import pandas as pd\n",
    "\n",
    "data2 = blood_data  \n",
    "data1 = []\n",
    "data1.extend([2] * len(data2))\n",
    "\n",
    "b_df = pd.DataFrame(columns=['Label', 'Text'])\n",
    "b_df['Label'] = data1\n",
    "b_df['Text'] = data2\n"
   ]
  },
  {
   "cell_type": "code",
   "execution_count": 270,
   "id": "e9747c66",
   "metadata": {},
   "outputs": [],
   "source": [
    "b_df['Text'] = b_df['Text'].replace(r'\\r\\n|\\n|\\r', ' ', regex=True)"
   ]
  },
  {
   "cell_type": "code",
   "execution_count": 271,
   "id": "f3794cb4",
   "metadata": {},
   "outputs": [],
   "source": [
    "b_df['Text'] = b_df['Text'].apply(lambda x: x.lower())"
   ]
  },
  {
   "cell_type": "code",
   "execution_count": 272,
   "id": "48cfc800",
   "metadata": {},
   "outputs": [],
   "source": [
    "b_df['Text'] = b_df['Text'].apply(email)"
   ]
  },
  {
   "cell_type": "code",
   "execution_count": 273,
   "id": "5d744efe",
   "metadata": {},
   "outputs": [],
   "source": [
    "b_df['Text'] = b_df['Text'].apply(url)"
   ]
  },
  {
   "cell_type": "code",
   "execution_count": 274,
   "id": "247f7a63",
   "metadata": {},
   "outputs": [],
   "source": [
    "b_df['Text'] = b_df['Text'].apply(sc)"
   ]
  },
  {
   "cell_type": "code",
   "execution_count": 275,
   "id": "3d28c560",
   "metadata": {},
   "outputs": [],
   "source": [
    "b_df['Text'] = b_df['Text'].apply(sw)"
   ]
  },
  {
   "cell_type": "markdown",
   "id": "f2e9a708",
   "metadata": {},
   "source": [
    "# HAEMATOLOGY REPORTS"
   ]
  },
  {
   "cell_type": "code",
   "execution_count": 276,
   "id": "a2240895",
   "metadata": {},
   "outputs": [],
   "source": [
    "import os\n",
    "import pandas as pd\n",
    "\n",
    "folder_path = 'C:\\\\Users\\\\DELL\\\\Documents\\\\TVS NEXT\\\\final project data\\\\text files\\\\samples of hematology reports txt'  # Replace with the actual folder path\n",
    "\n",
    "haematology_data=[]\n",
    "\n",
    "for file_name in os.listdir(folder_path):\n",
    "    if file_name.endswith('.txt'):\n",
    "        file_path = os.path.join(folder_path, file_name)\n",
    "        with open(file_path, 'r') as file:\n",
    "            text = file.read()\n",
    "            haematology_data.append(text)\n"
   ]
  },
  {
   "cell_type": "code",
   "execution_count": 277,
   "id": "ad78abdc",
   "metadata": {},
   "outputs": [],
   "source": [
    "#ADD DATA TO DATAFRAME\n",
    "\n",
    "import pandas as pd\n",
    "\n",
    "data2 = haematology_data  \n",
    "data1 = []\n",
    "data1.extend([3] * len(data2))\n",
    "\n",
    "h_df = pd.DataFrame(columns=['Label', 'Text'])\n",
    "h_df['Label'] = data1\n",
    "h_df['Text'] = data2\n"
   ]
  },
  {
   "cell_type": "code",
   "execution_count": 278,
   "id": "370cdf4e",
   "metadata": {},
   "outputs": [],
   "source": [
    "h_df['Text'] = h_df['Text'].replace(r'\\r\\n|\\n|\\r', ' ', regex=True)"
   ]
  },
  {
   "cell_type": "code",
   "execution_count": 279,
   "id": "7de16459",
   "metadata": {},
   "outputs": [],
   "source": [
    "h_df['Text'] = h_df['Text'].apply(lambda x: x.lower())"
   ]
  },
  {
   "cell_type": "code",
   "execution_count": 280,
   "id": "c7a68d28",
   "metadata": {},
   "outputs": [],
   "source": [
    "h_df['Text'] = h_df['Text'].apply(email)"
   ]
  },
  {
   "cell_type": "code",
   "execution_count": 281,
   "id": "d47dff07",
   "metadata": {},
   "outputs": [],
   "source": [
    "h_df['Text'] = h_df['Text'].apply(url)"
   ]
  },
  {
   "cell_type": "code",
   "execution_count": 282,
   "id": "8215364f",
   "metadata": {},
   "outputs": [],
   "source": [
    "h_df['Text'] = h_df['Text'].apply(sc)"
   ]
  },
  {
   "cell_type": "code",
   "execution_count": 283,
   "id": "22087e89",
   "metadata": {},
   "outputs": [],
   "source": [
    "h_df['Text'] = h_df['Text'].apply(sw)"
   ]
  },
  {
   "cell_type": "markdown",
   "id": "e9ca20b0",
   "metadata": {},
   "source": [
    "# TUMOR MARKERS "
   ]
  },
  {
   "cell_type": "code",
   "execution_count": 284,
   "id": "0568c7ea",
   "metadata": {},
   "outputs": [],
   "source": [
    "import os\n",
    "import pandas as pd\n",
    "\n",
    "folder_path = 'C:\\\\Users\\\\DELL\\\\Documents\\\\TVS NEXT\\\\final project data\\\\text files\\\\samples of tumor markers txt'  # Replace with the actual folder path\n",
    "\n",
    "tumor_data=[]\n",
    "\n",
    "for file_name in os.listdir(folder_path):\n",
    "    if file_name.endswith('.txt'):\n",
    "        file_path = os.path.join(folder_path, file_name)\n",
    "        with open(file_path, 'r') as file:\n",
    "            text = file.read()\n",
    "            tumor_data.append(text)\n"
   ]
  },
  {
   "cell_type": "code",
   "execution_count": 285,
   "id": "6761aa80",
   "metadata": {},
   "outputs": [],
   "source": [
    "#ADD DATA TO DATAFRAME\n",
    "\n",
    "import pandas as pd\n",
    "\n",
    "data2 = tumor_data  \n",
    "data1 = []\n",
    "data1.extend([4] * len(data2))\n",
    "\n",
    "t_df = pd.DataFrame(columns=['Label', 'Text'])\n",
    "t_df['Label'] = data1\n",
    "t_df['Text'] = data2\n"
   ]
  },
  {
   "cell_type": "code",
   "execution_count": 286,
   "id": "95a68bb8",
   "metadata": {},
   "outputs": [],
   "source": [
    "t_df['Text'] = t_df['Text'].replace(r'\\r\\n|\\n|\\r', ' ', regex=True)"
   ]
  },
  {
   "cell_type": "code",
   "execution_count": 287,
   "id": "f52cec38",
   "metadata": {},
   "outputs": [],
   "source": [
    "t_df['Text'] = t_df['Text'].apply(lambda x: x.lower())"
   ]
  },
  {
   "cell_type": "code",
   "execution_count": 288,
   "id": "ea3ef915",
   "metadata": {},
   "outputs": [],
   "source": [
    "t_df['Text'] = t_df['Text'].apply(email)"
   ]
  },
  {
   "cell_type": "code",
   "execution_count": 289,
   "id": "719134c8",
   "metadata": {},
   "outputs": [],
   "source": [
    "t_df['Text'] = t_df['Text'].apply(url)"
   ]
  },
  {
   "cell_type": "code",
   "execution_count": 290,
   "id": "666568aa",
   "metadata": {},
   "outputs": [],
   "source": [
    "t_df['Text'] = t_df['Text'].apply(sc)"
   ]
  },
  {
   "cell_type": "code",
   "execution_count": 291,
   "id": "bd9c3aad",
   "metadata": {},
   "outputs": [],
   "source": [
    "t_df['Text'] = t_df['Text'].apply(sw)"
   ]
  },
  {
   "cell_type": "markdown",
   "id": "9615650b",
   "metadata": {},
   "source": [
    "# URINE TESTS"
   ]
  },
  {
   "cell_type": "code",
   "execution_count": 292,
   "id": "339eb75c",
   "metadata": {},
   "outputs": [],
   "source": [
    "import os\n",
    "import pandas as pd\n",
    "\n",
    "folder_path = 'C:\\\\Users\\\\DELL\\\\Documents\\\\TVS NEXT\\\\final project data\\\\text files\\\\samples of urine tests txt'  # Replace with the actual folder path\n",
    "\n",
    "urine_data=[]\n",
    "\n",
    "for file_name in os.listdir(folder_path):\n",
    "    if file_name.endswith('.txt'):\n",
    "        file_path = os.path.join(folder_path, file_name)\n",
    "        with open(file_path, 'r') as file:\n",
    "            text = file.read()\n",
    "            urine_data.append(text)\n"
   ]
  },
  {
   "cell_type": "code",
   "execution_count": 293,
   "id": "d68d7125",
   "metadata": {},
   "outputs": [],
   "source": [
    "#ADD DATA TO DATAFRAME\n",
    "\n",
    "import pandas as pd\n",
    "\n",
    "data2 = urine_data  \n",
    "data1 = []\n",
    "data1.extend([5] * len(data2))\n",
    "\n",
    "u_df = pd.DataFrame(columns=['Label', 'Text'])\n",
    "u_df['Label'] = data1\n",
    "u_df['Text'] = data2\n"
   ]
  },
  {
   "cell_type": "code",
   "execution_count": 294,
   "id": "1a5566ac",
   "metadata": {},
   "outputs": [],
   "source": [
    "u_df['Text'] = u_df['Text'].replace(r'\\r\\n|\\n|\\r', ' ', regex=True)"
   ]
  },
  {
   "cell_type": "code",
   "execution_count": 295,
   "id": "b86c509f",
   "metadata": {},
   "outputs": [],
   "source": [
    "u_df['Text'] = u_df['Text'].apply(lambda x: x.lower())"
   ]
  },
  {
   "cell_type": "code",
   "execution_count": 296,
   "id": "a4fc33db",
   "metadata": {},
   "outputs": [],
   "source": [
    "u_df['Text'] = u_df['Text'].apply(email)"
   ]
  },
  {
   "cell_type": "code",
   "execution_count": 297,
   "id": "b9fd71ee",
   "metadata": {},
   "outputs": [],
   "source": [
    "u_df['Text'] = u_df['Text'].apply(url)"
   ]
  },
  {
   "cell_type": "code",
   "execution_count": 298,
   "id": "c4c31022",
   "metadata": {},
   "outputs": [],
   "source": [
    "u_df['Text'] = u_df['Text'].apply(sc)"
   ]
  },
  {
   "cell_type": "code",
   "execution_count": 299,
   "id": "2e709c8c",
   "metadata": {},
   "outputs": [],
   "source": [
    "u_df['Text'] = u_df['Text'].apply(sw)"
   ]
  },
  {
   "cell_type": "markdown",
   "id": "b31aef3a",
   "metadata": {},
   "source": [
    "# COMPREHENSIVE METABOLIC PANEL"
   ]
  },
  {
   "cell_type": "code",
   "execution_count": 300,
   "id": "89400d02",
   "metadata": {},
   "outputs": [],
   "source": [
    "import os\n",
    "import pandas as pd\n",
    "\n",
    "folder_path = 'C:\\\\Users\\\\DELL\\\\Documents\\\\TVS NEXT\\\\final project data\\\\text files\\\\Comprehensive Metabolic Panel txt'  \n",
    "\n",
    "Comprehensive_Metabolic_Panel_data = []\n",
    "\n",
    "for file_name in os.listdir(folder_path):\n",
    "    if file_name.endswith('.txt'):\n",
    "        file_path = os.path.join(folder_path, file_name)\n",
    "        with open(file_path, 'r', encoding='utf-8') as file:\n",
    "            text = file.read()\n",
    "            Comprehensive_Metabolic_Panel_data.append(text)"
   ]
  },
  {
   "cell_type": "code",
   "execution_count": 301,
   "id": "4dee9276",
   "metadata": {},
   "outputs": [],
   "source": [
    "#ADD DATA TO DATAFRAME\n",
    "\n",
    "import pandas as pd\n",
    "\n",
    "data2 = Comprehensive_Metabolic_Panel_data  \n",
    "data1 = []\n",
    "data1.extend([6] * len(data2))\n",
    "\n",
    "c_df = pd.DataFrame(columns=['Label', 'Text'])\n",
    "c_df['Label'] = data1\n",
    "c_df['Text'] = data2\n"
   ]
  },
  {
   "cell_type": "code",
   "execution_count": 302,
   "id": "3d58c363",
   "metadata": {},
   "outputs": [],
   "source": [
    "c_df['Text'] = c_df['Text'].replace(r'\\r\\n|\\n|\\r', ' ', regex=True)"
   ]
  },
  {
   "cell_type": "code",
   "execution_count": 303,
   "id": "837e1f5f",
   "metadata": {},
   "outputs": [],
   "source": [
    "c_df['Text'] = c_df['Text'].apply(lambda x: x.lower())"
   ]
  },
  {
   "cell_type": "code",
   "execution_count": 304,
   "id": "e58b1a84",
   "metadata": {},
   "outputs": [],
   "source": [
    "c_df['Text'] = c_df['Text'].apply(email)"
   ]
  },
  {
   "cell_type": "code",
   "execution_count": 305,
   "id": "86ed21c9",
   "metadata": {},
   "outputs": [],
   "source": [
    "c_df['Text'] = c_df['Text'].apply(url)"
   ]
  },
  {
   "cell_type": "code",
   "execution_count": 306,
   "id": "b14f5fb7",
   "metadata": {},
   "outputs": [],
   "source": [
    "c_df['Text'] = c_df['Text'].apply(sc)"
   ]
  },
  {
   "cell_type": "code",
   "execution_count": 307,
   "id": "f396b21c",
   "metadata": {},
   "outputs": [],
   "source": [
    "c_df['Text'] = c_df['Text'].apply(sw)"
   ]
  },
  {
   "cell_type": "markdown",
   "id": "aa77e393",
   "metadata": {},
   "source": [
    "# C-REACTIVE PROTEIN"
   ]
  },
  {
   "cell_type": "code",
   "execution_count": 308,
   "id": "886b1a7e",
   "metadata": {},
   "outputs": [],
   "source": [
    "import os\n",
    "import pandas as pd\n",
    "\n",
    "folder_path = 'C:\\\\Users\\\\DELL\\\\Documents\\\\TVS NEXT\\\\final project data\\\\text files\\\\C-reactive protein txt'  \n",
    "\n",
    "C_reactive_protein_data = []\n",
    "\n",
    "for file_name in os.listdir(folder_path):\n",
    "    if file_name.endswith('.txt'):\n",
    "        file_path = os.path.join(folder_path, file_name)\n",
    "        with open(file_path, 'r', encoding='utf-8') as file:\n",
    "            text = file.read()\n",
    "            C_reactive_protein_data.append(text)"
   ]
  },
  {
   "cell_type": "code",
   "execution_count": 309,
   "id": "d6ca489a",
   "metadata": {},
   "outputs": [],
   "source": [
    "#ADD DATA TO DATAFRAME\n",
    "\n",
    "import pandas as pd\n",
    "\n",
    "data2 = C_reactive_protein_data  \n",
    "data1 = []\n",
    "data1.extend([7] * len(data2))\n",
    "\n",
    "p_df = pd.DataFrame(columns=['Label', 'Text'])\n",
    "p_df['Label'] = data1\n",
    "p_df['Text'] = data2\n"
   ]
  },
  {
   "cell_type": "code",
   "execution_count": 310,
   "id": "42d67bcd",
   "metadata": {},
   "outputs": [],
   "source": [
    "p_df['Text'] = p_df['Text'].replace(r'\\r\\n|\\n|\\r', ' ', regex=True)"
   ]
  },
  {
   "cell_type": "code",
   "execution_count": 311,
   "id": "498c15d2",
   "metadata": {},
   "outputs": [],
   "source": [
    "p_df['Text'] = p_df['Text'].apply(lambda x: x.lower())"
   ]
  },
  {
   "cell_type": "code",
   "execution_count": 312,
   "id": "08cf8e62",
   "metadata": {},
   "outputs": [],
   "source": [
    "p_df['Text'] = p_df['Text'].apply(email)"
   ]
  },
  {
   "cell_type": "code",
   "execution_count": 313,
   "id": "1d3775cd",
   "metadata": {},
   "outputs": [],
   "source": [
    "p_df['Text'] = p_df['Text'].apply(url)"
   ]
  },
  {
   "cell_type": "code",
   "execution_count": 314,
   "id": "1fbdd742",
   "metadata": {},
   "outputs": [],
   "source": [
    "p_df['Text'] = p_df['Text'].apply(sc)"
   ]
  },
  {
   "cell_type": "code",
   "execution_count": 315,
   "id": "c6d74860",
   "metadata": {},
   "outputs": [],
   "source": [
    "p_df['Text'] = p_df['Text'].apply(sw)"
   ]
  },
  {
   "cell_type": "markdown",
   "id": "7acc6be2",
   "metadata": {},
   "source": [
    "# DIABETES"
   ]
  },
  {
   "cell_type": "code",
   "execution_count": 316,
   "id": "227182d4",
   "metadata": {},
   "outputs": [],
   "source": [
    "import os\n",
    "import pandas as pd\n",
    "\n",
    "folder_path = 'C:\\\\Users\\\\DELL\\\\Documents\\\\TVS NEXT\\\\final project data\\\\text files\\\\Diabetes txt'  \n",
    "\n",
    "diabetes_data = []\n",
    "\n",
    "for file_name in os.listdir(folder_path):\n",
    "    if file_name.endswith('.txt'):\n",
    "        file_path = os.path.join(folder_path, file_name)\n",
    "        with open(file_path, 'r', encoding='utf-8') as file:\n",
    "            text = file.read()\n",
    "            diabetes_data.append(text)"
   ]
  },
  {
   "cell_type": "code",
   "execution_count": 317,
   "id": "5911b23c",
   "metadata": {},
   "outputs": [],
   "source": [
    "#ADD DATA TO DATAFRAME\n",
    "\n",
    "import pandas as pd\n",
    "\n",
    "data2 = diabetes_data \n",
    "data1 = []\n",
    "data1.extend([8] * len(data2))\n",
    "\n",
    "d_df = pd.DataFrame(columns=['Label', 'Text'])\n",
    "d_df['Label'] = data1\n",
    "d_df['Text'] = data2\n"
   ]
  },
  {
   "cell_type": "code",
   "execution_count": 318,
   "id": "9281b2d6",
   "metadata": {},
   "outputs": [],
   "source": [
    "d_df['Text'] = d_df['Text'].replace(r'\\r\\n|\\n|\\r', ' ', regex=True)"
   ]
  },
  {
   "cell_type": "code",
   "execution_count": 319,
   "id": "b020afe1",
   "metadata": {},
   "outputs": [],
   "source": [
    "d_df['Text'] = d_df['Text'].apply(lambda x: x.lower())"
   ]
  },
  {
   "cell_type": "code",
   "execution_count": 320,
   "id": "c5da33d8",
   "metadata": {},
   "outputs": [],
   "source": [
    "d_df['Text'] = d_df['Text'].apply(email)"
   ]
  },
  {
   "cell_type": "code",
   "execution_count": 321,
   "id": "e7a10949",
   "metadata": {},
   "outputs": [],
   "source": [
    "d_df['Text'] = d_df['Text'].apply(url)"
   ]
  },
  {
   "cell_type": "code",
   "execution_count": 322,
   "id": "eca3ca90",
   "metadata": {},
   "outputs": [],
   "source": [
    "d_df['Text'] = d_df['Text'].apply(sc)"
   ]
  },
  {
   "cell_type": "code",
   "execution_count": 323,
   "id": "067449fd",
   "metadata": {},
   "outputs": [],
   "source": [
    "d_df['Text'] = d_df['Text'].apply(sw)"
   ]
  },
  {
   "cell_type": "markdown",
   "id": "293e2e50",
   "metadata": {},
   "source": [
    "# GENETIC TESTING"
   ]
  },
  {
   "cell_type": "code",
   "execution_count": 324,
   "id": "fc07b907",
   "metadata": {},
   "outputs": [],
   "source": [
    "import os\n",
    "import pandas as pd\n",
    "\n",
    "folder_path = 'C:\\\\Users\\\\DELL\\\\Documents\\\\TVS NEXT\\\\final project data\\\\text files\\\\genetic_testing txt'  \n",
    "\n",
    "genetic_testing_data = []\n",
    "\n",
    "for file_name in os.listdir(folder_path):\n",
    "    if file_name.endswith('.txt'):\n",
    "        file_path = os.path.join(folder_path, file_name)\n",
    "        with open(file_path, 'r', encoding='utf-8') as file:\n",
    "            text = file.read()\n",
    "            genetic_testing_data.append(text)"
   ]
  },
  {
   "cell_type": "code",
   "execution_count": 325,
   "id": "51fe6a7a",
   "metadata": {},
   "outputs": [],
   "source": [
    "#ADD DATA TO DATAFRAME\n",
    "\n",
    "import pandas as pd\n",
    "\n",
    "data2 = genetic_testing_data \n",
    "data1 = []\n",
    "data1.extend([9] * len(data2))\n",
    "\n",
    "g_df = pd.DataFrame(columns=['Label', 'Text'])\n",
    "g_df['Label'] = data1\n",
    "g_df['Text'] = data2\n"
   ]
  },
  {
   "cell_type": "code",
   "execution_count": 326,
   "id": "fe30e583",
   "metadata": {},
   "outputs": [],
   "source": [
    "g_df['Text'] = g_df['Text'].replace(r'\\r\\n|\\n|\\r', ' ', regex=True)"
   ]
  },
  {
   "cell_type": "code",
   "execution_count": 327,
   "id": "c7070e32",
   "metadata": {},
   "outputs": [],
   "source": [
    "g_df['Text'] = g_df['Text'].apply(lambda x: x.lower())"
   ]
  },
  {
   "cell_type": "code",
   "execution_count": 328,
   "id": "529f5855",
   "metadata": {},
   "outputs": [],
   "source": [
    "g_df['Text'] = g_df['Text'].apply(email)"
   ]
  },
  {
   "cell_type": "code",
   "execution_count": 329,
   "id": "ce73782c",
   "metadata": {},
   "outputs": [],
   "source": [
    "g_df['Text'] = g_df['Text'].apply(url)"
   ]
  },
  {
   "cell_type": "code",
   "execution_count": 330,
   "id": "11f41014",
   "metadata": {},
   "outputs": [],
   "source": [
    "g_df['Text'] = g_df['Text'].apply(sc)"
   ]
  },
  {
   "cell_type": "code",
   "execution_count": 331,
   "id": "b7a59ea2",
   "metadata": {},
   "outputs": [],
   "source": [
    "g_df['Text'] = g_df['Text'].apply(sw)"
   ]
  },
  {
   "cell_type": "markdown",
   "id": "47461339",
   "metadata": {},
   "source": [
    "# KIDNEY TESTS"
   ]
  },
  {
   "cell_type": "code",
   "execution_count": 332,
   "id": "6a060231",
   "metadata": {},
   "outputs": [],
   "source": [
    "import os\n",
    "import pandas as pd\n",
    "\n",
    "folder_path = 'C:\\\\Users\\\\DELL\\\\Documents\\\\TVS NEXT\\\\final project data\\\\text files\\\\kidney_test txt'  \n",
    "\n",
    "kidney_test_data = []\n",
    "\n",
    "for file_name in os.listdir(folder_path):\n",
    "    if file_name.endswith('.txt'):\n",
    "        file_path = os.path.join(folder_path, file_name)\n",
    "        with open(file_path, 'r', encoding='utf-8') as file:\n",
    "            text = file.read()\n",
    "            kidney_test_data.append(text)"
   ]
  },
  {
   "cell_type": "code",
   "execution_count": 333,
   "id": "a83a203c",
   "metadata": {},
   "outputs": [],
   "source": [
    "#ADD DATA TO DATAFRAME\n",
    "\n",
    "import pandas as pd\n",
    "\n",
    "data2 = kidney_test_data \n",
    "data1 = []\n",
    "data1.extend([10] * len(data2))\n",
    "\n",
    "k_df = pd.DataFrame(columns=['Label', 'Text'])\n",
    "k_df['Label'] = data1\n",
    "k_df['Text'] = data2\n"
   ]
  },
  {
   "cell_type": "code",
   "execution_count": 334,
   "id": "19b526e0",
   "metadata": {},
   "outputs": [],
   "source": [
    "k_df['Text'] = k_df['Text'].replace(r'\\r\\n|\\n|\\r', ' ', regex=True)"
   ]
  },
  {
   "cell_type": "code",
   "execution_count": 335,
   "id": "dc19aa3a",
   "metadata": {},
   "outputs": [],
   "source": [
    "k_df['Text'] = k_df['Text'].apply(lambda x: x.lower())"
   ]
  },
  {
   "cell_type": "code",
   "execution_count": 336,
   "id": "1c661900",
   "metadata": {},
   "outputs": [],
   "source": [
    "k_df['Text'] = k_df['Text'].apply(email)"
   ]
  },
  {
   "cell_type": "code",
   "execution_count": 337,
   "id": "712b6268",
   "metadata": {},
   "outputs": [],
   "source": [
    "k_df['Text'] = k_df['Text'].apply(url)"
   ]
  },
  {
   "cell_type": "code",
   "execution_count": 338,
   "id": "7cec276d",
   "metadata": {},
   "outputs": [],
   "source": [
    "k_df['Text'] = k_df['Text'].apply(sc)"
   ]
  },
  {
   "cell_type": "code",
   "execution_count": 339,
   "id": "ef9b9716",
   "metadata": {},
   "outputs": [],
   "source": [
    "k_df['Text'] = k_df['Text'].apply(sw)"
   ]
  },
  {
   "cell_type": "markdown",
   "id": "0d91f639",
   "metadata": {},
   "source": [
    "# LIPID PANEL"
   ]
  },
  {
   "cell_type": "code",
   "execution_count": 340,
   "id": "6c3c52b9",
   "metadata": {},
   "outputs": [],
   "source": [
    "import os\n",
    "import pandas as pd\n",
    "\n",
    "folder_path = 'C:\\\\Users\\\\DELL\\\\Documents\\\\TVS NEXT\\\\final project data\\\\text files\\\\lipid_panel txt'  \n",
    "\n",
    "lipid_panel_data = []\n",
    "\n",
    "for file_name in os.listdir(folder_path):\n",
    "    if file_name.endswith('.txt'):\n",
    "        file_path = os.path.join(folder_path, file_name)\n",
    "        with open(file_path, 'r', encoding='utf-8') as file:\n",
    "            text = file.read()\n",
    "            lipid_panel_data.append(text)"
   ]
  },
  {
   "cell_type": "code",
   "execution_count": 341,
   "id": "c5453a76",
   "metadata": {},
   "outputs": [],
   "source": [
    "#ADD DATA TO DATAFRAME\n",
    "\n",
    "import pandas as pd\n",
    "\n",
    "data2 = lipid_panel_data \n",
    "data1 = []\n",
    "data1.extend([11] * len(data2))\n",
    "\n",
    "l_df = pd.DataFrame(columns=['Label', 'Text'])\n",
    "l_df['Label'] = data1\n",
    "l_df['Text'] = data2\n"
   ]
  },
  {
   "cell_type": "code",
   "execution_count": 342,
   "id": "321932dc",
   "metadata": {},
   "outputs": [],
   "source": [
    "l_df['Text'] = l_df['Text'].replace(r'\\r\\n|\\n|\\r', ' ', regex=True)"
   ]
  },
  {
   "cell_type": "code",
   "execution_count": 343,
   "id": "c838c1d6",
   "metadata": {},
   "outputs": [],
   "source": [
    "l_df['Text'] = l_df['Text'].apply(lambda x: x.lower())"
   ]
  },
  {
   "cell_type": "code",
   "execution_count": 344,
   "id": "0638dab6",
   "metadata": {},
   "outputs": [],
   "source": [
    "l_df['Text'] = l_df['Text'].apply(email)"
   ]
  },
  {
   "cell_type": "code",
   "execution_count": 345,
   "id": "2f847f97",
   "metadata": {},
   "outputs": [],
   "source": [
    "l_df['Text'] = l_df['Text'].apply(url)"
   ]
  },
  {
   "cell_type": "code",
   "execution_count": 346,
   "id": "23a3f8c8",
   "metadata": {},
   "outputs": [],
   "source": [
    "l_df['Text'] = l_df['Text'].apply(sc)"
   ]
  },
  {
   "cell_type": "code",
   "execution_count": 347,
   "id": "1b9a60b0",
   "metadata": {},
   "outputs": [],
   "source": [
    "l_df['Text'] = l_df['Text'].apply(sw)"
   ]
  },
  {
   "cell_type": "markdown",
   "id": "04591673",
   "metadata": {},
   "source": [
    "# BRCASSURE"
   ]
  },
  {
   "cell_type": "code",
   "execution_count": 348,
   "id": "a79ab773",
   "metadata": {},
   "outputs": [],
   "source": [
    "import os\n",
    "import pandas as pd\n",
    "\n",
    "folder_path = 'C:\\\\Users\\\\DELL\\\\Documents\\\\TVS NEXT\\\\final project data\\\\text files\\\\BRCAssure'  \n",
    "\n",
    "BRCAssure_data = []\n",
    "\n",
    "for file_name in os.listdir(folder_path):\n",
    "    if file_name.endswith('.txt'):\n",
    "        file_path = os.path.join(folder_path, file_name)\n",
    "        with open(file_path, 'r', encoding='utf-8') as file:\n",
    "            text = file.read()\n",
    "            BRCAssure_data.append(text)"
   ]
  },
  {
   "cell_type": "code",
   "execution_count": 349,
   "id": "c7fa2ffc",
   "metadata": {},
   "outputs": [],
   "source": [
    "#ADD DATA TO DATAFRAME\n",
    "\n",
    "import pandas as pd\n",
    "\n",
    "data2 = BRCAssure_data  \n",
    "data1 = []\n",
    "data1.extend([12] * len(data2))\n",
    "\n",
    "brca_df = pd.DataFrame(columns=['Label', 'Text'])\n",
    "brca_df['Label'] = data1\n",
    "brca_df['Text'] = data2\n"
   ]
  },
  {
   "cell_type": "code",
   "execution_count": 350,
   "id": "9a10a99d",
   "metadata": {},
   "outputs": [],
   "source": [
    "brca_df['Text'] = brca_df['Text'].replace(r'\\r\\n|\\n|\\r', ' ', regex=True)"
   ]
  },
  {
   "cell_type": "code",
   "execution_count": 351,
   "id": "d2463282",
   "metadata": {},
   "outputs": [],
   "source": [
    "brca_df['Text'] = brca_df['Text'].apply(lambda x: x.lower())"
   ]
  },
  {
   "cell_type": "code",
   "execution_count": 352,
   "id": "ef58a1bc",
   "metadata": {},
   "outputs": [],
   "source": [
    "brca_df['Text'] = brca_df['Text'].apply(email)"
   ]
  },
  {
   "cell_type": "code",
   "execution_count": 353,
   "id": "1d4650ed",
   "metadata": {},
   "outputs": [],
   "source": [
    "brca_df['Text'] = brca_df['Text'].apply(url)"
   ]
  },
  {
   "cell_type": "code",
   "execution_count": 354,
   "id": "0006a373",
   "metadata": {},
   "outputs": [],
   "source": [
    "brca_df['Text'] = brca_df['Text'].apply(sc)"
   ]
  },
  {
   "cell_type": "code",
   "execution_count": 355,
   "id": "8593b812",
   "metadata": {},
   "outputs": [],
   "source": [
    "brca_df['Text'] = brca_df['Text'].apply(sw)"
   ]
  },
  {
   "cell_type": "markdown",
   "id": "320bd4b2",
   "metadata": {},
   "source": [
    "# CHROMOSOME ANALYSIS"
   ]
  },
  {
   "cell_type": "code",
   "execution_count": 356,
   "id": "30b5d81e",
   "metadata": {},
   "outputs": [],
   "source": [
    "import os\n",
    "import pandas as pd\n",
    "\n",
    "folder_path = 'C:\\\\Users\\\\DELL\\\\Documents\\\\TVS NEXT\\\\final project data\\\\text files\\\\Chromosome Analysis'  \n",
    "\n",
    "Chromosome_Analysis_data = []\n",
    "\n",
    "for file_name in os.listdir(folder_path):\n",
    "    if file_name.endswith('.txt'):\n",
    "        file_path = os.path.join(folder_path, file_name)\n",
    "        with open(file_path, 'r', encoding='utf-8') as file:\n",
    "            text = file.read()\n",
    "            Chromosome_Analysis_data.append(text)"
   ]
  },
  {
   "cell_type": "code",
   "execution_count": 357,
   "id": "5b6aa34c",
   "metadata": {},
   "outputs": [],
   "source": [
    "#ADD DATA TO DATAFRAME\n",
    "\n",
    "import pandas as pd\n",
    "\n",
    "data2 = Chromosome_Analysis_data  \n",
    "data1 = []\n",
    "data1.extend([13] * len(data2))\n",
    "\n",
    "ca_df = pd.DataFrame(columns=['Label', 'Text'])\n",
    "ca_df['Label'] = data1\n",
    "ca_df['Text'] = data2\n"
   ]
  },
  {
   "cell_type": "code",
   "execution_count": 358,
   "id": "fcb21b8a",
   "metadata": {},
   "outputs": [],
   "source": [
    "ca_df['Text'] = ca_df['Text'].replace(r'\\r\\n|\\n|\\r', ' ', regex=True)"
   ]
  },
  {
   "cell_type": "code",
   "execution_count": 359,
   "id": "ba72d0a0",
   "metadata": {},
   "outputs": [],
   "source": [
    "ca_df['Text'] = ca_df['Text'].apply(lambda x: x.lower())"
   ]
  },
  {
   "cell_type": "code",
   "execution_count": 360,
   "id": "3a837ca8",
   "metadata": {},
   "outputs": [],
   "source": [
    "ca_df['Text'] = ca_df['Text'].apply(email)"
   ]
  },
  {
   "cell_type": "code",
   "execution_count": 361,
   "id": "c34e54a2",
   "metadata": {},
   "outputs": [],
   "source": [
    "ca_df['Text'] = ca_df['Text'].apply(url)"
   ]
  },
  {
   "cell_type": "code",
   "execution_count": 362,
   "id": "5466d2a0",
   "metadata": {},
   "outputs": [],
   "source": [
    "ca_df['Text'] = ca_df['Text'].apply(sc)"
   ]
  },
  {
   "cell_type": "code",
   "execution_count": 363,
   "id": "8ee45c07",
   "metadata": {},
   "outputs": [],
   "source": [
    "ca_df['Text'] = ca_df['Text'].apply(sw)"
   ]
  },
  {
   "cell_type": "markdown",
   "id": "8f8600ca",
   "metadata": {},
   "source": [
    "# FIRST SCREEN"
   ]
  },
  {
   "cell_type": "code",
   "execution_count": 364,
   "id": "690056a2",
   "metadata": {},
   "outputs": [],
   "source": [
    "import os\n",
    "import pandas as pd\n",
    "\n",
    "folder_path = 'C:\\\\Users\\\\DELL\\\\Documents\\\\TVS NEXT\\\\final project data\\\\text files\\\\FirstScreen'  \n",
    "\n",
    "FirstScreen_data = []\n",
    "\n",
    "for file_name in os.listdir(folder_path):\n",
    "    if file_name.endswith('.txt'):\n",
    "        file_path = os.path.join(folder_path, file_name)\n",
    "        with open(file_path, 'r', encoding='utf-8') as file:\n",
    "            text = file.read()\n",
    "            FirstScreen_data.append(text)"
   ]
  },
  {
   "cell_type": "code",
   "execution_count": 365,
   "id": "e52d80d7",
   "metadata": {},
   "outputs": [],
   "source": [
    "#ADD DATA TO DATAFRAME\n",
    "\n",
    "import pandas as pd\n",
    "\n",
    "data2 = FirstScreen_data  \n",
    "data1 = []\n",
    "data1.extend([14] * len(data2))\n",
    "\n",
    "fs_df = pd.DataFrame(columns=['Label', 'Text'])\n",
    "fs_df['Label'] = data1\n",
    "fs_df['Text'] = data2\n"
   ]
  },
  {
   "cell_type": "code",
   "execution_count": 366,
   "id": "d1550c9d",
   "metadata": {},
   "outputs": [],
   "source": [
    "fs_df['Text'] = fs_df['Text'].replace(r'\\r\\n|\\n|\\r', ' ', regex=True)"
   ]
  },
  {
   "cell_type": "code",
   "execution_count": 367,
   "id": "d4980224",
   "metadata": {},
   "outputs": [],
   "source": [
    "fs_df['Text'] = fs_df['Text'].apply(lambda x: x.lower())"
   ]
  },
  {
   "cell_type": "code",
   "execution_count": 368,
   "id": "fe9ad85d",
   "metadata": {},
   "outputs": [],
   "source": [
    "fs_df['Text'] = fs_df['Text'].apply(email)"
   ]
  },
  {
   "cell_type": "code",
   "execution_count": 369,
   "id": "075e9ec6",
   "metadata": {},
   "outputs": [],
   "source": [
    "fs_df['Text'] = fs_df['Text'].apply(url)"
   ]
  },
  {
   "cell_type": "code",
   "execution_count": 370,
   "id": "f10275c8",
   "metadata": {},
   "outputs": [],
   "source": [
    "fs_df['Text'] = fs_df['Text'].apply(sc)"
   ]
  },
  {
   "cell_type": "code",
   "execution_count": 371,
   "id": "26c3b609",
   "metadata": {},
   "outputs": [],
   "source": [
    "fs_df['Text'] = fs_df['Text'].apply(sw)"
   ]
  },
  {
   "cell_type": "markdown",
   "id": "8a636578",
   "metadata": {},
   "source": [
    "# FRAGILE X"
   ]
  },
  {
   "cell_type": "code",
   "execution_count": 372,
   "id": "c4562c2d",
   "metadata": {},
   "outputs": [],
   "source": [
    "import os\n",
    "import pandas as pd\n",
    "\n",
    "folder_path = 'C:\\\\Users\\\\DELL\\\\Documents\\\\TVS NEXT\\\\final project data\\\\text files\\\\Fragile X'  \n",
    "\n",
    "Fragile_X_data = []\n",
    "\n",
    "for file_name in os.listdir(folder_path):\n",
    "    if file_name.endswith('.txt'):\n",
    "        file_path = os.path.join(folder_path, file_name)\n",
    "        with open(file_path, 'r', encoding='utf-8') as file:\n",
    "            text = file.read()\n",
    "            Fragile_X_data.append(text)"
   ]
  },
  {
   "cell_type": "code",
   "execution_count": 373,
   "id": "c4133803",
   "metadata": {},
   "outputs": [],
   "source": [
    "#ADD DATA TO DATAFRAME\n",
    "\n",
    "import pandas as pd\n",
    "\n",
    "data2 = Fragile_X_data  \n",
    "data1 = []\n",
    "data1.extend([15] * len(data2))\n",
    "\n",
    "fx_df = pd.DataFrame(columns=['Label', 'Text'])\n",
    "fx_df['Label'] = data1\n",
    "fx_df['Text'] = data2\n"
   ]
  },
  {
   "cell_type": "code",
   "execution_count": 374,
   "id": "77acfebf",
   "metadata": {},
   "outputs": [],
   "source": [
    "fx_df['Text'] = fx_df['Text'].replace(r'\\r\\n|\\n|\\r', ' ', regex=True)"
   ]
  },
  {
   "cell_type": "code",
   "execution_count": 375,
   "id": "58a47e5a",
   "metadata": {},
   "outputs": [],
   "source": [
    "fx_df['Text'] = fx_df['Text'].apply(lambda x: x.lower())"
   ]
  },
  {
   "cell_type": "code",
   "execution_count": 376,
   "id": "f3bdff70",
   "metadata": {},
   "outputs": [],
   "source": [
    "fx_df['Text'] = fx_df['Text'].apply(email)"
   ]
  },
  {
   "cell_type": "code",
   "execution_count": 377,
   "id": "5e556e7b",
   "metadata": {},
   "outputs": [],
   "source": [
    "fx_df['Text'] = fx_df['Text'].apply(url)"
   ]
  },
  {
   "cell_type": "code",
   "execution_count": 378,
   "id": "c9c4e1bf",
   "metadata": {},
   "outputs": [],
   "source": [
    "fx_df['Text'] = fx_df['Text'].apply(sc)"
   ]
  },
  {
   "cell_type": "code",
   "execution_count": 379,
   "id": "cebff40a",
   "metadata": {},
   "outputs": [],
   "source": [
    "fx_df['Text'] = fx_df['Text'].apply(sw)"
   ]
  },
  {
   "cell_type": "markdown",
   "id": "cb4b4d58",
   "metadata": {},
   "source": [
    "# INHERITEST"
   ]
  },
  {
   "cell_type": "code",
   "execution_count": 380,
   "id": "126eeba1",
   "metadata": {},
   "outputs": [],
   "source": [
    "import os\n",
    "import pandas as pd\n",
    "\n",
    "folder_path = 'C:\\\\Users\\\\DELL\\\\Documents\\\\TVS NEXT\\\\final project data\\\\text files\\\\Inheritest'  \n",
    "\n",
    "Inheritest_data = []\n",
    "\n",
    "for file_name in os.listdir(folder_path):\n",
    "    if file_name.endswith('.txt'):\n",
    "        file_path = os.path.join(folder_path, file_name)\n",
    "        with open(file_path, 'r', encoding='utf-8') as file:\n",
    "            text = file.read()\n",
    "            Inheritest_data.append(text)"
   ]
  },
  {
   "cell_type": "code",
   "execution_count": 381,
   "id": "412fd4db",
   "metadata": {},
   "outputs": [],
   "source": [
    "#ADD DATA TO DATAFRAME\n",
    "\n",
    "import pandas as pd\n",
    "\n",
    "data2 = Inheritest_data  \n",
    "data1 = []\n",
    "data1.extend([16] * len(data2))\n",
    "\n",
    "i_df = pd.DataFrame(columns=['Label', 'Text'])\n",
    "i_df['Label'] = data1\n",
    "i_df['Text'] = data2\n"
   ]
  },
  {
   "cell_type": "code",
   "execution_count": 382,
   "id": "5843fcde",
   "metadata": {},
   "outputs": [],
   "source": [
    "i_df['Text'] = i_df['Text'].replace(r'\\r\\n|\\n|\\r', ' ', regex=True)"
   ]
  },
  {
   "cell_type": "code",
   "execution_count": 383,
   "id": "22940f3c",
   "metadata": {},
   "outputs": [],
   "source": [
    "i_df['Text'] = i_df['Text'].apply(lambda x: x.lower())"
   ]
  },
  {
   "cell_type": "code",
   "execution_count": 384,
   "id": "51bfbb8a",
   "metadata": {},
   "outputs": [],
   "source": [
    "i_df['Text'] = i_df['Text'].apply(email)"
   ]
  },
  {
   "cell_type": "code",
   "execution_count": 385,
   "id": "4a31c67c",
   "metadata": {},
   "outputs": [],
   "source": [
    "i_df['Text'] = i_df['Text'].apply(url)"
   ]
  },
  {
   "cell_type": "code",
   "execution_count": 386,
   "id": "94f22986",
   "metadata": {},
   "outputs": [],
   "source": [
    "i_df['Text'] = i_df['Text'].apply(sc)"
   ]
  },
  {
   "cell_type": "code",
   "execution_count": 387,
   "id": "8da8d3a7",
   "metadata": {},
   "outputs": [],
   "source": [
    "i_df['Text'] = i_df['Text'].apply(sw)"
   ]
  },
  {
   "cell_type": "markdown",
   "id": "61a30326",
   "metadata": {},
   "source": [
    "# MATERNITY"
   ]
  },
  {
   "cell_type": "code",
   "execution_count": 388,
   "id": "5cbf26b8",
   "metadata": {},
   "outputs": [],
   "source": [
    "import os\n",
    "import pandas as pd\n",
    "\n",
    "folder_path = 'C:\\\\Users\\\\DELL\\\\Documents\\\\TVS NEXT\\\\final project data\\\\text files\\\\Maternity'  \n",
    "\n",
    "Maternity_data = []\n",
    "\n",
    "for file_name in os.listdir(folder_path):\n",
    "    if file_name.endswith('.txt'):\n",
    "        file_path = os.path.join(folder_path, file_name)\n",
    "        with open(file_path, 'r', encoding='utf-8') as file:\n",
    "            text = file.read()\n",
    "            Maternity_data.append(text)"
   ]
  },
  {
   "cell_type": "code",
   "execution_count": 389,
   "id": "29a67ecb",
   "metadata": {},
   "outputs": [],
   "source": [
    "#ADD DATA TO DATAFRAME\n",
    "\n",
    "import pandas as pd\n",
    "\n",
    "data2 = Maternity_data  \n",
    "data1 = []\n",
    "data1.extend([17] * len(data2))\n",
    "\n",
    "m_df = pd.DataFrame(columns=['Label', 'Text'])\n",
    "m_df['Label'] = data1\n",
    "m_df['Text'] = data2\n"
   ]
  },
  {
   "cell_type": "code",
   "execution_count": 390,
   "id": "804efc9c",
   "metadata": {},
   "outputs": [],
   "source": [
    "m_df['Text'] = m_df['Text'].replace(r'\\r\\n|\\n|\\r', ' ', regex=True)"
   ]
  },
  {
   "cell_type": "code",
   "execution_count": 391,
   "id": "068a702c",
   "metadata": {},
   "outputs": [],
   "source": [
    "m_df['Text'] = m_df['Text'].apply(lambda x: x.lower())"
   ]
  },
  {
   "cell_type": "code",
   "execution_count": 392,
   "id": "7b170e53",
   "metadata": {},
   "outputs": [],
   "source": [
    "m_df['Text'] = m_df['Text'].apply(email)"
   ]
  },
  {
   "cell_type": "code",
   "execution_count": 393,
   "id": "afe8c06c",
   "metadata": {},
   "outputs": [],
   "source": [
    "m_df['Text'] = m_df['Text'].apply(url)"
   ]
  },
  {
   "cell_type": "code",
   "execution_count": 394,
   "id": "c02c3966",
   "metadata": {},
   "outputs": [],
   "source": [
    "m_df['Text'] = m_df['Text'].apply(sc)"
   ]
  },
  {
   "cell_type": "code",
   "execution_count": 395,
   "id": "d7a9b8c2",
   "metadata": {},
   "outputs": [],
   "source": [
    "m_df['Text'] = m_df['Text'].apply(sw)"
   ]
  },
  {
   "cell_type": "markdown",
   "id": "d1d4adc0",
   "metadata": {},
   "source": [
    "# REVEAL SNP MICROARRAY"
   ]
  },
  {
   "cell_type": "code",
   "execution_count": 396,
   "id": "210deb22",
   "metadata": {},
   "outputs": [],
   "source": [
    "import os\n",
    "import pandas as pd\n",
    "\n",
    "folder_path = 'C:\\\\Users\\\\DELL\\\\Documents\\\\TVS NEXT\\\\final project data\\\\text files\\\\Reveal SNP Microarray'  \n",
    "\n",
    "Reveal_SNP_Microarray_data = []\n",
    "\n",
    "for file_name in os.listdir(folder_path):\n",
    "    if file_name.endswith('.txt'):\n",
    "        file_path = os.path.join(folder_path, file_name)\n",
    "        with open(file_path, 'r', encoding='utf-8') as file:\n",
    "            text = file.read()\n",
    "            Reveal_SNP_Microarray_data.append(text)"
   ]
  },
  {
   "cell_type": "code",
   "execution_count": 397,
   "id": "d2488971",
   "metadata": {},
   "outputs": [],
   "source": [
    "#ADD DATA TO DATAFRAME\n",
    "\n",
    "import pandas as pd\n",
    "\n",
    "data2 = Reveal_SNP_Microarray_data\n",
    "data1 = []\n",
    "data1.extend([18] * len(data2))\n",
    "\n",
    "rsm_df = pd.DataFrame(columns=['Label', 'Text'])\n",
    "rsm_df['Label'] = data1\n",
    "rsm_df['Text'] = data2\n"
   ]
  },
  {
   "cell_type": "code",
   "execution_count": 398,
   "id": "c5fc40b4",
   "metadata": {},
   "outputs": [],
   "source": [
    "rsm_df['Text'] = rsm_df['Text'].replace(r'\\r\\n|\\n|\\r', ' ', regex=True)"
   ]
  },
  {
   "cell_type": "code",
   "execution_count": 399,
   "id": "4ed47db3",
   "metadata": {},
   "outputs": [],
   "source": [
    "rsm_df['Text'] = rsm_df['Text'].apply(lambda x: x.lower())"
   ]
  },
  {
   "cell_type": "code",
   "execution_count": 400,
   "id": "3749013c",
   "metadata": {},
   "outputs": [],
   "source": [
    "rsm_df['Text'] = rsm_df['Text'].apply(email)"
   ]
  },
  {
   "cell_type": "code",
   "execution_count": 401,
   "id": "12aeb018",
   "metadata": {},
   "outputs": [],
   "source": [
    "rsm_df['Text'] = rsm_df['Text'].apply(url)"
   ]
  },
  {
   "cell_type": "code",
   "execution_count": 402,
   "id": "becec89c",
   "metadata": {},
   "outputs": [],
   "source": [
    "rsm_df['Text'] = rsm_df['Text'].apply(sc)"
   ]
  },
  {
   "cell_type": "code",
   "execution_count": 403,
   "id": "c180694b",
   "metadata": {},
   "outputs": [],
   "source": [
    "rsm_df['Text'] = rsm_df['Text'].apply(sw)"
   ]
  },
  {
   "cell_type": "markdown",
   "id": "54de1e40",
   "metadata": {},
   "source": [
    "# SEQUENTIAL SCREEN"
   ]
  },
  {
   "cell_type": "code",
   "execution_count": 404,
   "id": "e65a9a68",
   "metadata": {},
   "outputs": [],
   "source": [
    "import os\n",
    "import pandas as pd\n",
    "\n",
    "folder_path = 'C:\\\\Users\\\\DELL\\\\Documents\\\\TVS NEXT\\\\final project data\\\\text files\\\\SequentialScreen'  \n",
    "\n",
    "SequentialScreen_data = []\n",
    "\n",
    "for file_name in os.listdir(folder_path):\n",
    "    if file_name.endswith('.txt'):\n",
    "        file_path = os.path.join(folder_path, file_name)\n",
    "        with open(file_path, 'r', encoding='utf-8') as file:\n",
    "            text = file.read()\n",
    "            SequentialScreen_data.append(text)"
   ]
  },
  {
   "cell_type": "code",
   "execution_count": 405,
   "id": "b274bdd6",
   "metadata": {},
   "outputs": [],
   "source": [
    "#ADD DATA TO DATAFRAME\n",
    "\n",
    "import pandas as pd\n",
    "\n",
    "data2 = SequentialScreen_data\n",
    "data1 = []\n",
    "data1.extend([19] * len(data2))\n",
    "\n",
    "ss_df = pd.DataFrame(columns=['Label', 'Text'])\n",
    "ss_df['Label'] = data1\n",
    "ss_df['Text'] = data2\n"
   ]
  },
  {
   "cell_type": "code",
   "execution_count": 406,
   "id": "649c29c7",
   "metadata": {},
   "outputs": [],
   "source": [
    "ss_df['Text'] = ss_df['Text'].replace(r'\\r\\n|\\n|\\r', ' ', regex=True)"
   ]
  },
  {
   "cell_type": "code",
   "execution_count": 407,
   "id": "56387fea",
   "metadata": {},
   "outputs": [],
   "source": [
    "ss_df['Text'] = ss_df['Text'].apply(lambda x: x.lower())"
   ]
  },
  {
   "cell_type": "code",
   "execution_count": 408,
   "id": "a5a3e23c",
   "metadata": {},
   "outputs": [],
   "source": [
    "ss_df['Text'] = ss_df['Text'].apply(email)"
   ]
  },
  {
   "cell_type": "code",
   "execution_count": 409,
   "id": "907f3993",
   "metadata": {},
   "outputs": [],
   "source": [
    "ss_df['Text'] = ss_df['Text'].apply(url)"
   ]
  },
  {
   "cell_type": "code",
   "execution_count": 410,
   "id": "1d593cff",
   "metadata": {},
   "outputs": [],
   "source": [
    "ss_df['Text'] = ss_df['Text'].apply(sc)"
   ]
  },
  {
   "cell_type": "code",
   "execution_count": 411,
   "id": "46867046",
   "metadata": {},
   "outputs": [],
   "source": [
    "ss_df['Text'] = ss_df['Text'].apply(sw)"
   ]
  },
  {
   "cell_type": "markdown",
   "id": "8e163c3b",
   "metadata": {},
   "source": [
    "# SPINAL MUSCULAR ATROPHY SMA DATA"
   ]
  },
  {
   "cell_type": "code",
   "execution_count": 412,
   "id": "e3f43b8b",
   "metadata": {},
   "outputs": [],
   "source": [
    "import os\n",
    "import pandas as pd\n",
    "\n",
    "folder_path = 'C:\\\\Users\\\\DELL\\\\Documents\\\\TVS NEXT\\\\final project data\\\\text files\\\\Spinal Muscular Atrophy SMA'  \n",
    "\n",
    "Spinal_Muscular_Atrophy_SMA_data = []\n",
    "\n",
    "for file_name in os.listdir(folder_path):\n",
    "    if file_name.endswith('.txt'):\n",
    "        file_path = os.path.join(folder_path, file_name)\n",
    "        with open(file_path, 'r', encoding='utf-8') as file:\n",
    "            text = file.read()\n",
    "            Spinal_Muscular_Atrophy_SMA_data.append(text)"
   ]
  },
  {
   "cell_type": "code",
   "execution_count": 413,
   "id": "297babcf",
   "metadata": {},
   "outputs": [],
   "source": [
    "#ADD DATA TO DATAFRAME\n",
    "\n",
    "import pandas as pd\n",
    "\n",
    "data2 = Spinal_Muscular_Atrophy_SMA_data  \n",
    "data1 = []\n",
    "data1.extend([20] * len(data2))\n",
    "\n",
    "sma_df = pd.DataFrame(columns=['Label', 'Text'])\n",
    "sma_df['Label'] = data1\n",
    "sma_df['Text'] = data2\n"
   ]
  },
  {
   "cell_type": "code",
   "execution_count": 414,
   "id": "52685753",
   "metadata": {},
   "outputs": [],
   "source": [
    "sma_df['Text'] = sma_df['Text'].replace(r'\\r\\n|\\n|\\r', ' ', regex=True)"
   ]
  },
  {
   "cell_type": "code",
   "execution_count": 415,
   "id": "70b3a935",
   "metadata": {},
   "outputs": [],
   "source": [
    "sma_df['Text'] = sma_df['Text'].apply(lambda x: x.lower())"
   ]
  },
  {
   "cell_type": "code",
   "execution_count": 416,
   "id": "f4bf45d1",
   "metadata": {},
   "outputs": [],
   "source": [
    "sma_df['Text'] = sma_df['Text'].apply(email)"
   ]
  },
  {
   "cell_type": "code",
   "execution_count": 417,
   "id": "ce48f8ee",
   "metadata": {},
   "outputs": [],
   "source": [
    "sma_df['Text'] = sma_df['Text'].apply(url)"
   ]
  },
  {
   "cell_type": "code",
   "execution_count": 418,
   "id": "e4ad7752",
   "metadata": {},
   "outputs": [],
   "source": [
    "sma_df['Text'] = sma_df['Text'].apply(sc)"
   ]
  },
  {
   "cell_type": "code",
   "execution_count": 419,
   "id": "f9b4a9ba",
   "metadata": {},
   "outputs": [],
   "source": [
    "sma_df['Text'] = sma_df['Text'].apply(sw)"
   ]
  },
  {
   "cell_type": "markdown",
   "id": "78635d62",
   "metadata": {},
   "source": [
    "# VISTASEQ"
   ]
  },
  {
   "cell_type": "code",
   "execution_count": 420,
   "id": "41b7f07b",
   "metadata": {},
   "outputs": [],
   "source": [
    "import os\n",
    "import pandas as pd\n",
    "\n",
    "folder_path = 'C:\\\\Users\\\\DELL\\\\Documents\\\\TVS NEXT\\\\final project data\\\\text files\\\\VistaSeq'  \n",
    "\n",
    "VistaSeq_data = []\n",
    "\n",
    "for file_name in os.listdir(folder_path):\n",
    "    if file_name.endswith('.txt'):\n",
    "        file_path = os.path.join(folder_path, file_name)\n",
    "        with open(file_path, 'r', encoding='utf-8') as file:\n",
    "            text = file.read()\n",
    "            VistaSeq_data.append(text)"
   ]
  },
  {
   "cell_type": "code",
   "execution_count": 421,
   "id": "f5fd64ba",
   "metadata": {},
   "outputs": [],
   "source": [
    "#ADD DATA TO DATAFRAME\n",
    "\n",
    "import pandas as pd\n",
    "\n",
    "data2 = VistaSeq_data  \n",
    "data1 = []\n",
    "data1.extend([21] * len(data2))\n",
    "\n",
    "v_df = pd.DataFrame(columns=['Label', 'Text'])\n",
    "v_df['Label'] = data1\n",
    "v_df['Text'] = data2\n"
   ]
  },
  {
   "cell_type": "code",
   "execution_count": 422,
   "id": "fb184e6f",
   "metadata": {},
   "outputs": [],
   "source": [
    "v_df['Text'] = v_df['Text'].replace(r'\\r\\n|\\n|\\r', ' ', regex=True)"
   ]
  },
  {
   "cell_type": "code",
   "execution_count": 423,
   "id": "3e42249c",
   "metadata": {},
   "outputs": [],
   "source": [
    "v_df['Text'] = v_df['Text'].apply(lambda x: x.lower())"
   ]
  },
  {
   "cell_type": "code",
   "execution_count": 424,
   "id": "a25c4103",
   "metadata": {},
   "outputs": [],
   "source": [
    "v_df['Text'] = v_df['Text'].apply(email)"
   ]
  },
  {
   "cell_type": "code",
   "execution_count": 425,
   "id": "e3692a23",
   "metadata": {},
   "outputs": [],
   "source": [
    "v_df['Text'] = v_df['Text'].apply(url)"
   ]
  },
  {
   "cell_type": "code",
   "execution_count": 426,
   "id": "d558951b",
   "metadata": {},
   "outputs": [],
   "source": [
    "v_df['Text'] = v_df['Text'].apply(sc)"
   ]
  },
  {
   "cell_type": "code",
   "execution_count": 427,
   "id": "c6f7ff8b",
   "metadata": {},
   "outputs": [],
   "source": [
    "v_df['Text'] = v_df['Text'].apply(sw)"
   ]
  },
  {
   "cell_type": "markdown",
   "id": "66df546b",
   "metadata": {},
   "source": [
    "# CONCAT INTO A SINGLE DATAFRAME AND PERFORM EDA"
   ]
  },
  {
   "cell_type": "code",
   "execution_count": 428,
   "id": "d04cd1c1",
   "metadata": {},
   "outputs": [],
   "source": [
    "\n",
    "final_df = pd.concat([o_df, b_df, h_df, t_df, u_df, c_df, p_df, d_df, g_df, k_df, l_df, v_df, sma_df, ss_df, rsm_df, m_df, i_df, fx_df, fs_df, ca_df, brca_df])"
   ]
  },
  {
   "cell_type": "code",
   "execution_count": 429,
   "id": "dc5debad",
   "metadata": {},
   "outputs": [
    {
     "data": {
      "text/html": [
       "<div>\n",
       "<style scoped>\n",
       "    .dataframe tbody tr th:only-of-type {\n",
       "        vertical-align: middle;\n",
       "    }\n",
       "\n",
       "    .dataframe tbody tr th {\n",
       "        vertical-align: top;\n",
       "    }\n",
       "\n",
       "    .dataframe thead th {\n",
       "        text-align: right;\n",
       "    }\n",
       "</style>\n",
       "<table border=\"1\" class=\"dataframe\">\n",
       "  <thead>\n",
       "    <tr style=\"text-align: right;\">\n",
       "      <th></th>\n",
       "      <th>Label</th>\n",
       "      <th>Text</th>\n",
       "    </tr>\n",
       "  </thead>\n",
       "  <tbody>\n",
       "    <tr>\n",
       "      <th>0</th>\n",
       "      <td>1</td>\n",
       "      <td>titre patient serumpatient name mr ketan chava...</td>\n",
       "    </tr>\n",
       "    <tr>\n",
       "      <th>1</th>\n",
       "      <td>1</td>\n",
       "      <td>anti microsomal antibody ama patient name mr k...</td>\n",
       "    </tr>\n",
       "    <tr>\n",
       "      <th>2</th>\n",
       "      <td>1</td>\n",
       "      <td>anti nuclear antibodypatient name mr ketan cha...</td>\n",
       "    </tr>\n",
       "    <tr>\n",
       "      <th>3</th>\n",
       "      <td>1</td>\n",
       "      <td>c reactive protein crp patient name mr ketan c...</td>\n",
       "    </tr>\n",
       "    <tr>\n",
       "      <th>4</th>\n",
       "      <td>1</td>\n",
       "      <td>c f examination routinepatient name mr ketan c...</td>\n",
       "    </tr>\n",
       "  </tbody>\n",
       "</table>\n",
       "</div>"
      ],
      "text/plain": [
       "   Label                                               Text\n",
       "0      1  titre patient serumpatient name mr ketan chava...\n",
       "1      1  anti microsomal antibody ama patient name mr k...\n",
       "2      1  anti nuclear antibodypatient name mr ketan cha...\n",
       "3      1  c reactive protein crp patient name mr ketan c...\n",
       "4      1  c f examination routinepatient name mr ketan c..."
      ]
     },
     "execution_count": 429,
     "metadata": {},
     "output_type": "execute_result"
    }
   ],
   "source": [
    "final_df.head()"
   ]
  },
  {
   "cell_type": "code",
   "execution_count": 430,
   "id": "c1893677",
   "metadata": {},
   "outputs": [
    {
     "data": {
      "text/html": [
       "<div>\n",
       "<style scoped>\n",
       "    .dataframe tbody tr th:only-of-type {\n",
       "        vertical-align: middle;\n",
       "    }\n",
       "\n",
       "    .dataframe tbody tr th {\n",
       "        vertical-align: top;\n",
       "    }\n",
       "\n",
       "    .dataframe thead th {\n",
       "        text-align: right;\n",
       "    }\n",
       "</style>\n",
       "<table border=\"1\" class=\"dataframe\">\n",
       "  <thead>\n",
       "    <tr style=\"text-align: right;\">\n",
       "      <th></th>\n",
       "      <th>Label</th>\n",
       "      <th>Text</th>\n",
       "    </tr>\n",
       "  </thead>\n",
       "  <tbody>\n",
       "    <tr>\n",
       "      <th>8</th>\n",
       "      <td>12</td>\n",
       "      <td>brcassure brca1 targeted analysis specimen id ...</td>\n",
       "    </tr>\n",
       "    <tr>\n",
       "      <th>9</th>\n",
       "      <td>12</td>\n",
       "      <td>brcassure brca1 targeted analysis specimen id ...</td>\n",
       "    </tr>\n",
       "    <tr>\n",
       "      <th>10</th>\n",
       "      <td>12</td>\n",
       "      <td>brcassure brca2 targeted analysis specimen id ...</td>\n",
       "    </tr>\n",
       "    <tr>\n",
       "      <th>11</th>\n",
       "      <td>12</td>\n",
       "      <td>brcassure brca2 targeted analysis specimen id ...</td>\n",
       "    </tr>\n",
       "    <tr>\n",
       "      <th>12</th>\n",
       "      <td>12</td>\n",
       "      <td>brcassure brca2 targeted analysis specimen id ...</td>\n",
       "    </tr>\n",
       "  </tbody>\n",
       "</table>\n",
       "</div>"
      ],
      "text/plain": [
       "    Label                                               Text\n",
       "8      12  brcassure brca1 targeted analysis specimen id ...\n",
       "9      12  brcassure brca1 targeted analysis specimen id ...\n",
       "10     12  brcassure brca2 targeted analysis specimen id ...\n",
       "11     12  brcassure brca2 targeted analysis specimen id ...\n",
       "12     12  brcassure brca2 targeted analysis specimen id ..."
      ]
     },
     "execution_count": 430,
     "metadata": {},
     "output_type": "execute_result"
    }
   ],
   "source": [
    "final_df.tail()"
   ]
  },
  {
   "cell_type": "code",
   "execution_count": 431,
   "id": "48f15e77",
   "metadata": {},
   "outputs": [
    {
     "name": "stdout",
     "output_type": "stream",
     "text": [
      "Number of rows: 176\n"
     ]
    }
   ],
   "source": [
    "print(\"Number of rows:\", len(final_df))"
   ]
  },
  {
   "cell_type": "code",
   "execution_count": 432,
   "id": "928c3663",
   "metadata": {},
   "outputs": [
    {
     "name": "stdout",
     "output_type": "stream",
     "text": [
      "Number of columns: 2\n"
     ]
    }
   ],
   "source": [
    "print(\"Number of columns:\", len(final_df.columns))"
   ]
  },
  {
   "cell_type": "code",
   "execution_count": 433,
   "id": "ff3ce957",
   "metadata": {},
   "outputs": [
    {
     "name": "stdout",
     "output_type": "stream",
     "text": [
      "Label     int64\n",
      "Text     object\n",
      "dtype: object\n"
     ]
    }
   ],
   "source": [
    "print(final_df.dtypes)"
   ]
  },
  {
   "cell_type": "code",
   "execution_count": 434,
   "id": "32f5f8b4",
   "metadata": {},
   "outputs": [
    {
     "data": {
      "text/html": [
       "<div>\n",
       "<style scoped>\n",
       "    .dataframe tbody tr th:only-of-type {\n",
       "        vertical-align: middle;\n",
       "    }\n",
       "\n",
       "    .dataframe tbody tr th {\n",
       "        vertical-align: top;\n",
       "    }\n",
       "\n",
       "    .dataframe thead th {\n",
       "        text-align: right;\n",
       "    }\n",
       "</style>\n",
       "<table border=\"1\" class=\"dataframe\">\n",
       "  <thead>\n",
       "    <tr style=\"text-align: right;\">\n",
       "      <th></th>\n",
       "      <th>Label</th>\n",
       "      <th>Text</th>\n",
       "    </tr>\n",
       "  </thead>\n",
       "  <tbody>\n",
       "    <tr>\n",
       "      <th>4</th>\n",
       "      <td>12</td>\n",
       "      <td>brcassure comprehensive brca1 brca2 analysis s...</td>\n",
       "    </tr>\n",
       "    <tr>\n",
       "      <th>41</th>\n",
       "      <td>1</td>\n",
       "      <td>widal test antigen agglutination titrepatient ...</td>\n",
       "    </tr>\n",
       "    <tr>\n",
       "      <th>7</th>\n",
       "      <td>1</td>\n",
       "      <td>cpk mbpatient name mr ketan chavan male crysta...</td>\n",
       "    </tr>\n",
       "    <tr>\n",
       "      <th>5</th>\n",
       "      <td>21</td>\n",
       "      <td>vistaseq hereditary cancer panel sample report...</td>\n",
       "    </tr>\n",
       "    <tr>\n",
       "      <th>3</th>\n",
       "      <td>12</td>\n",
       "      <td>brcassure ashkenazi jewish panel specimen id 0...</td>\n",
       "    </tr>\n",
       "    <tr>\n",
       "      <th>3</th>\n",
       "      <td>15</td>\n",
       "      <td>1 specimen id 190 990 5101 0 control id sample...</td>\n",
       "    </tr>\n",
       "    <tr>\n",
       "      <th>6</th>\n",
       "      <td>12</td>\n",
       "      <td>brcassure comprehensive brca1 brca2 analysis s...</td>\n",
       "    </tr>\n",
       "    <tr>\n",
       "      <th>2</th>\n",
       "      <td>15</td>\n",
       "      <td>lastname firstname dob mm dd yyyy patient id s...</td>\n",
       "    </tr>\n",
       "    <tr>\n",
       "      <th>2</th>\n",
       "      <td>3</td>\n",
       "      <td>sample results actual results may vary patient...</td>\n",
       "    </tr>\n",
       "    <tr>\n",
       "      <th>2</th>\n",
       "      <td>12</td>\n",
       "      <td>brcassure ashkenazi jewish panel specimen id 0...</td>\n",
       "    </tr>\n",
       "  </tbody>\n",
       "</table>\n",
       "</div>"
      ],
      "text/plain": [
       "    Label                                               Text\n",
       "4      12  brcassure comprehensive brca1 brca2 analysis s...\n",
       "41      1  widal test antigen agglutination titrepatient ...\n",
       "7       1  cpk mbpatient name mr ketan chavan male crysta...\n",
       "5      21  vistaseq hereditary cancer panel sample report...\n",
       "3      12  brcassure ashkenazi jewish panel specimen id 0...\n",
       "3      15  1 specimen id 190 990 5101 0 control id sample...\n",
       "6      12  brcassure comprehensive brca1 brca2 analysis s...\n",
       "2      15  lastname firstname dob mm dd yyyy patient id s...\n",
       "2       3  sample results actual results may vary patient...\n",
       "2      12  brcassure ashkenazi jewish panel specimen id 0..."
      ]
     },
     "execution_count": 434,
     "metadata": {},
     "output_type": "execute_result"
    }
   ],
   "source": [
    "final_df.sample(10)"
   ]
  },
  {
   "cell_type": "code",
   "execution_count": 435,
   "id": "846f6b48",
   "metadata": {},
   "outputs": [
    {
     "data": {
      "text/plain": [
       "(176, 2)"
      ]
     },
     "execution_count": 435,
     "metadata": {},
     "output_type": "execute_result"
    }
   ],
   "source": [
    "final_df.shape"
   ]
  },
  {
   "cell_type": "code",
   "execution_count": 436,
   "id": "0d09d771",
   "metadata": {},
   "outputs": [
    {
     "name": "stdout",
     "output_type": "stream",
     "text": [
      "Vocabulary size: 7162\n"
     ]
    }
   ],
   "source": [
    "vocabulary = set()\n",
    "for text in final_df['Text']:\n",
    "    words = text.split()\n",
    "    vocabulary.update(words)\n",
    "vocabulary_size = len(vocabulary)\n",
    "print(\"Vocabulary size:\", vocabulary_size)"
   ]
  },
  {
   "cell_type": "code",
   "execution_count": 437,
   "id": "3dd560ba",
   "metadata": {},
   "outputs": [],
   "source": [
    "#print(vocabulary)"
   ]
  },
  {
   "cell_type": "code",
   "execution_count": 438,
   "id": "b5ba3924",
   "metadata": {},
   "outputs": [
    {
     "data": {
      "text/plain": [
       "<AxesSubplot:>"
      ]
     },
     "execution_count": 438,
     "metadata": {},
     "output_type": "execute_result"
    },
    {
     "data": {
      "image/png": "[encoded data removed]",
      "text/plain": [
       "<Figure size 432x288 with 1 Axes>"
      ]
     },
     "metadata": {
      "needs_background": "light"
     },
     "output_type": "display_data"
    }
   ],
   "source": [
    "final_df.Label.value_counts().plot(kind='bar')"
   ]
  },
  {
   "cell_type": "code",
   "execution_count": 439,
   "id": "f065d444",
   "metadata": {},
   "outputs": [
    {
     "name": "stdout",
     "output_type": "stream",
     "text": [
      "Number of rows in the dataset = 176\n",
      "Number of unique labels = 21\n"
     ]
    },
    {
     "data": {
      "text/plain": [
       "1     42\n",
       "2     17\n",
       "21    14\n",
       "12    13\n",
       "5     11\n",
       "10    11\n",
       "8      9\n",
       "18     8\n",
       "11     8\n",
       "6      7\n",
       "16     6\n",
       "4      4\n",
       "19     4\n",
       "15     4\n",
       "9      3\n",
       "3      3\n",
       "17     3\n",
       "13     3\n",
       "7      2\n",
       "14     2\n",
       "20     2\n",
       "Name: Label, dtype: int64"
      ]
     },
     "execution_count": 439,
     "metadata": {},
     "output_type": "execute_result"
    }
   ],
   "source": [
    "print(f\"Number of rows in the dataset = {final_df.shape[0]}\")\n",
    "\n",
    "num_labels = final_df[\"Label\"].nunique()\n",
    "print(f\"Number of unique labels = {num_labels}\")\n",
    "\n",
    "# Distribution by labels\n",
    "\n",
    "final_df[\"Label\"].value_counts()"
   ]
  },
  {
   "cell_type": "code",
   "execution_count": 440,
   "id": "99e8eef1",
   "metadata": {},
   "outputs": [],
   "source": [
    "#!pip install wordcloud"
   ]
  },
  {
   "cell_type": "code",
   "execution_count": 441,
   "id": "fc7acbfa",
   "metadata": {},
   "outputs": [],
   "source": [
    "final_df['Text'] = final_df['Text'].replace('cid', ' ', regex=True)"
   ]
  },
  {
   "cell_type": "code",
   "execution_count": 442,
   "id": "01c81c07",
   "metadata": {
    "scrolled": true
   },
   "outputs": [
    {
     "data": {
      "image/png": "[encoded data removed]",
      "text/plain": [
       "<Figure size 720x432 with 1 Axes>"
      ]
     },
     "metadata": {
      "needs_background": "light"
     },
     "output_type": "display_data"
    }
   ],
   "source": [
    "from wordcloud import WordCloud\n",
    "import matplotlib.pyplot as plt\n",
    "\n",
    "wordcloud = WordCloud(width=800, height=400, max_words=100, background_color='black')\n",
    "\n",
    "# Generate the word cloud from text data\n",
    "text = ' '.join(final_df['Text'])\n",
    "wordcloud.generate(text)\n",
    "\n",
    "# Display the word cloud\n",
    "plt.figure(figsize=(10, 6))\n",
    "plt.imshow(wordcloud, interpolation='bilinear')\n",
    "plt.axis('off')\n",
    "plt.show()\n"
   ]
  },
  {
   "cell_type": "markdown",
   "id": "9e7f5ffc",
   "metadata": {},
   "source": [
    "# CALCULATE TFIDF"
   ]
  },
  {
   "cell_type": "code",
   "execution_count": 517,
   "id": "86f5b398",
   "metadata": {},
   "outputs": [],
   "source": [
    "#final_tfidf_df = final_df"
   ]
  },
  {
   "cell_type": "code",
   "execution_count": null,
   "id": "a7c6e2ed",
   "metadata": {
    "scrolled": true
   },
   "outputs": [],
   "source": [
    "'''from sklearn.feature_extraction.text import TfidfVectorizer\n",
    "\n",
    "vectorizer = TfidfVectorizer()\n",
    "\n",
    "vectorizer.fit(final_df['Text'])\n",
    "\n",
    "tfidf_matrix = vectorizer.transform(final_df['Text'])\n",
    "\n",
    "feature_names = vectorizer.get_feature_names()\n",
    "\n",
    "tfidf_values_list = []\n",
    "\n",
    "for row in tfidf_matrix:\n",
    "    row_values = row.toarray()[0].tolist()\n",
    "    tfidf_values_list.append(row_values)\n",
    "\n",
    "tfidf_values_list = str(tfidf_values_list)\n",
    "final_tfidf_df['Tfidf'] = tfidf_values_list\n",
    "'''"
   ]
  },
  {
   "cell_type": "code",
   "execution_count": 519,
   "id": "d96e465b",
   "metadata": {},
   "outputs": [],
   "source": [
    "#final_tfidf_df"
   ]
  },
  {
   "cell_type": "markdown",
   "id": "56fef7ec",
   "metadata": {},
   "source": [
    "# SVM"
   ]
  },
  {
   "cell_type": "code",
   "execution_count": 447,
   "id": "2eaa18ce",
   "metadata": {},
   "outputs": [],
   "source": [
    "import numpy as np\n",
    "from sklearn.model_selection import train_test_split\n",
    "from sklearn.feature_extraction.text import CountVectorizer\n",
    "from sklearn.metrics import accuracy_score\n",
    "from sklearn.metrics import classification_report\n",
    "from sklearn.metrics import recall_score\n",
    "from sklearn.metrics import f1_score\n",
    "from sklearn.metrics import precision_score\n",
    "from sklearn.metrics import confusion_matrix\n",
    "import seaborn as sns\n",
    "import matplotlib.pyplot as plt"
   ]
  },
  {
   "cell_type": "code",
   "execution_count": 448,
   "id": "4821f5b1",
   "metadata": {},
   "outputs": [],
   "source": [
    "from sklearn.svm import SVC\n",
    "\n",
    "vectorizer = CountVectorizer(stop_words='english')\n",
    "\n",
    "X = final_df['Text']\n",
    "y = final_df['Label']\n",
    "\n",
    "X_train, X_test, y_train,y_test = train_test_split(X, y, test_size=0.3, random_state = 88)\n",
    "\n",
    "X_vect = vectorizer.fit_transform(X_train)\n",
    "\n",
    "svm_classifier = SVC()\n",
    "\n",
    "svm_classifier.fit(X_vect, y_train)\n",
    "\n",
    "y_pred = svm_classifier.predict(vectorizer.transform(X_test))\n"
   ]
  },
  {
   "cell_type": "code",
   "execution_count": 449,
   "id": "b4564a1f",
   "metadata": {},
   "outputs": [
    {
     "name": "stdout",
     "output_type": "stream",
     "text": [
      "Overall Accuracy: 0.41509433962264153\n",
      "Overall Precision: 0.21035728623042957\n",
      "Overall Recall: 0.41509433962264153\n",
      "Overall F1 Score: 0.2647405660377358\n"
     ]
    },
    {
     "name": "stderr",
     "output_type": "stream",
     "text": [
      "C:\\Users\\DELL\\anaconda3\\lib\\site-packages\\sklearn\\metrics\\_classification.py:1248: UndefinedMetricWarning: Precision is ill-defined and being set to 0.0 in labels with no predicted samples. Use `zero_division` parameter to control this behavior.\n",
      "  _warn_prf(average, modifier, msg_start, len(result))\n"
     ]
    }
   ],
   "source": [
    "print(\"Overall Accuracy:\",accuracy_score(y_test,y_pred))\n",
    "\n",
    "#precision\n",
    "overall_precision = precision_score(y_test, y_pred, average='weighted')\n",
    "print(\"Overall Precision:\", overall_precision)\n",
    "\n",
    "# recall\n",
    "overall_recall = recall_score(y_test, y_pred, average='weighted')\n",
    "print(\"Overall Recall:\", overall_recall)\n",
    "\n",
    "# F1 score\n",
    "overall_f1_score = f1_score(y_test, y_pred, average='weighted')\n",
    "print(\"Overall F1 Score:\", overall_f1_score)\n"
   ]
  },
  {
   "cell_type": "code",
   "execution_count": 450,
   "id": "4fa01abf",
   "metadata": {},
   "outputs": [
    {
     "name": "stdout",
     "output_type": "stream",
     "text": [
      "              precision    recall  f1-score   support\n",
      "\n",
      "           1       0.36      1.00      0.53        17\n",
      "           2       0.00      0.00      0.00         5\n",
      "           3       0.00      0.00      0.00         2\n",
      "           4       0.00      0.00      0.00         1\n",
      "           5       0.00      0.00      0.00         5\n",
      "           8       0.00      0.00      0.00         2\n",
      "          10       0.00      0.00      0.00         1\n",
      "          11       0.00      0.00      0.00         1\n",
      "          12       1.00      1.00      1.00         2\n",
      "          14       0.00      0.00      0.00         1\n",
      "          15       0.00      0.00      0.00         1\n",
      "          16       1.00      1.00      1.00         3\n",
      "          17       0.00      0.00      0.00         2\n",
      "          18       0.00      0.00      0.00         3\n",
      "          19       0.00      0.00      0.00         1\n",
      "          20       0.00      0.00      0.00         1\n",
      "          21       0.00      0.00      0.00         5\n",
      "\n",
      "    accuracy                           0.42        53\n",
      "   macro avg       0.14      0.18      0.15        53\n",
      "weighted avg       0.21      0.42      0.26        53\n",
      "\n"
     ]
    },
    {
     "name": "stderr",
     "output_type": "stream",
     "text": [
      "C:\\Users\\DELL\\anaconda3\\lib\\site-packages\\sklearn\\metrics\\_classification.py:1248: UndefinedMetricWarning: Precision and F-score are ill-defined and being set to 0.0 in labels with no predicted samples. Use `zero_division` parameter to control this behavior.\n",
      "  _warn_prf(average, modifier, msg_start, len(result))\n",
      "C:\\Users\\DELL\\anaconda3\\lib\\site-packages\\sklearn\\metrics\\_classification.py:1248: UndefinedMetricWarning: Precision and F-score are ill-defined and being set to 0.0 in labels with no predicted samples. Use `zero_division` parameter to control this behavior.\n",
      "  _warn_prf(average, modifier, msg_start, len(result))\n",
      "C:\\Users\\DELL\\anaconda3\\lib\\site-packages\\sklearn\\metrics\\_classification.py:1248: UndefinedMetricWarning: Precision and F-score are ill-defined and being set to 0.0 in labels with no predicted samples. Use `zero_division` parameter to control this behavior.\n",
      "  _warn_prf(average, modifier, msg_start, len(result))\n"
     ]
    }
   ],
   "source": [
    "# Print classification report\n",
    "print(classification_report(y_test, y_pred))"
   ]
  },
  {
   "cell_type": "code",
   "execution_count": 451,
   "id": "4e8689be",
   "metadata": {},
   "outputs": [
    {
     "data": {
      "image/png": "[encoded data removed]",
      "text/plain": [
       "<Figure size 576x432 with 1 Axes>"
      ]
     },
     "metadata": {
      "needs_background": "light"
     },
     "output_type": "display_data"
    }
   ],
   "source": [
    "# Compute the confusion matrix\n",
    "cm = confusion_matrix(y_test, y_pred)\n",
    "\n",
    "# Display the confusion matrix\n",
    "plt.figure(figsize=(8, 6))\n",
    "sns.heatmap(cm, annot=True, cmap='Blues', fmt='d', cbar=False)\n",
    "plt.xlabel('Predicted')\n",
    "plt.ylabel('Actual')\n",
    "plt.show()\n"
   ]
  },
  {
   "cell_type": "markdown",
   "id": "1457d17b",
   "metadata": {},
   "source": [
    "# LOGISTIC REGRESSION"
   ]
  },
  {
   "cell_type": "code",
   "execution_count": 452,
   "id": "b0d3d124",
   "metadata": {},
   "outputs": [
    {
     "name": "stderr",
     "output_type": "stream",
     "text": [
      "C:\\Users\\DELL\\anaconda3\\lib\\site-packages\\sklearn\\linear_model\\_logistic.py:763: ConvergenceWarning: lbfgs failed to converge (status=1):\n",
      "STOP: TOTAL NO. of ITERATIONS REACHED LIMIT.\n",
      "\n",
      "Increase the number of iterations (max_iter) or scale the data as shown in:\n",
      "    https://scikit-learn.org/stable/modules/preprocessing.html\n",
      "Please also refer to the documentation for alternative solver options:\n",
      "    https://scikit-learn.org/stable/modules/linear_model.html#logistic-regression\n",
      "  n_iter_i = _check_optimize_result(\n"
     ]
    }
   ],
   "source": [
    "from sklearn.linear_model import LogisticRegression\n",
    "\n",
    "X = final_df['Text']\n",
    "y = final_df['Label']\n",
    "\n",
    "X1_train, X1_test, y1_train,y1_test = train_test_split(X, y, test_size=0.3, random_state = 88)\n",
    "\n",
    "X1_vect = vectorizer.fit_transform(X1_train)\n",
    "\n",
    "logistic_classifier = LogisticRegression()\n",
    "\n",
    "logistic_classifier.fit(X1_vect, y1_train)\n",
    "\n",
    "y1_pred = logistic_classifier.predict(vectorizer.transform(X1_test))"
   ]
  },
  {
   "cell_type": "code",
   "execution_count": 453,
   "id": "79fadebd",
   "metadata": {},
   "outputs": [
    {
     "name": "stdout",
     "output_type": "stream",
     "text": [
      "Overall Accuracy: 0.8301886792452831\n",
      "Overall Precision: 0.8681491464510331\n",
      "Overall Recall: 0.8301886792452831\n",
      "Overall F1 Score: 0.8307017543859649\n"
     ]
    },
    {
     "name": "stderr",
     "output_type": "stream",
     "text": [
      "C:\\Users\\DELL\\anaconda3\\lib\\site-packages\\sklearn\\metrics\\_classification.py:1248: UndefinedMetricWarning: Recall is ill-defined and being set to 0.0 in labels with no true samples. Use `zero_division` parameter to control this behavior.\n",
      "  _warn_prf(average, modifier, msg_start, len(result))\n"
     ]
    }
   ],
   "source": [
    "print(\"Overall Accuracy:\",accuracy_score(y1_test,y1_pred))\n",
    "\n",
    "#precision\n",
    "overall_precision = precision_score(y1_test, y1_pred, average='weighted')\n",
    "print(\"Overall Precision:\", overall_precision)\n",
    "\n",
    "# recall\n",
    "overall_recall = recall_score(y1_test, y1_pred, average='weighted')\n",
    "print(\"Overall Recall:\", overall_recall)\n",
    "\n",
    "# F1 score\n",
    "overall_f1_score = f1_score(y1_test, y1_pred, average='weighted')\n",
    "print(\"Overall F1 Score:\", overall_f1_score)\n"
   ]
  },
  {
   "cell_type": "code",
   "execution_count": 454,
   "id": "fff59fb9",
   "metadata": {},
   "outputs": [
    {
     "name": "stdout",
     "output_type": "stream",
     "text": [
      "              precision    recall  f1-score   support\n",
      "\n",
      "           1       0.81      1.00      0.89        17\n",
      "           2       0.75      0.60      0.67         5\n",
      "           3       0.00      0.00      0.00         2\n",
      "           4       1.00      1.00      1.00         1\n",
      "           5       1.00      0.60      0.75         5\n",
      "           6       0.00      0.00      0.00         0\n",
      "           8       1.00      0.50      0.67         2\n",
      "          10       1.00      1.00      1.00         1\n",
      "          11       1.00      1.00      1.00         1\n",
      "          12       1.00      1.00      1.00         2\n",
      "          13       0.00      0.00      0.00         0\n",
      "          14       0.50      1.00      0.67         1\n",
      "          15       1.00      1.00      1.00         1\n",
      "          16       1.00      1.00      1.00         3\n",
      "          17       1.00      0.50      0.67         2\n",
      "          18       1.00      0.67      0.80         3\n",
      "          19       1.00      1.00      1.00         1\n",
      "          20       1.00      1.00      1.00         1\n",
      "          21       1.00      1.00      1.00         5\n",
      "\n",
      "    accuracy                           0.83        53\n",
      "   macro avg       0.79      0.73      0.74        53\n",
      "weighted avg       0.87      0.83      0.83        53\n",
      "\n"
     ]
    },
    {
     "name": "stderr",
     "output_type": "stream",
     "text": [
      "C:\\Users\\DELL\\anaconda3\\lib\\site-packages\\sklearn\\metrics\\_classification.py:1248: UndefinedMetricWarning: Recall and F-score are ill-defined and being set to 0.0 in labels with no true samples. Use `zero_division` parameter to control this behavior.\n",
      "  _warn_prf(average, modifier, msg_start, len(result))\n",
      "C:\\Users\\DELL\\anaconda3\\lib\\site-packages\\sklearn\\metrics\\_classification.py:1248: UndefinedMetricWarning: Recall and F-score are ill-defined and being set to 0.0 in labels with no true samples. Use `zero_division` parameter to control this behavior.\n",
      "  _warn_prf(average, modifier, msg_start, len(result))\n",
      "C:\\Users\\DELL\\anaconda3\\lib\\site-packages\\sklearn\\metrics\\_classification.py:1248: UndefinedMetricWarning: Recall and F-score are ill-defined and being set to 0.0 in labels with no true samples. Use `zero_division` parameter to control this behavior.\n",
      "  _warn_prf(average, modifier, msg_start, len(result))\n"
     ]
    }
   ],
   "source": [
    "print(classification_report(y1_test, y1_pred))"
   ]
  },
  {
   "cell_type": "code",
   "execution_count": 455,
   "id": "43934d65",
   "metadata": {},
   "outputs": [
    {
     "data": {
      "image/png": "[encoded data removed]",
      "text/plain": [
       "<Figure size 576x432 with 1 Axes>"
      ]
     },
     "metadata": {
      "needs_background": "light"
     },
     "output_type": "display_data"
    }
   ],
   "source": [
    "# Compute the confusion matrix\n",
    "cm = confusion_matrix(y1_test, y1_pred)\n",
    "\n",
    "# Display the confusion matrix\n",
    "plt.figure(figsize=(8, 6))\n",
    "sns.heatmap(cm, annot=True, cmap='Blues', fmt='d', cbar=False)\n",
    "plt.xlabel('Predicted')\n",
    "plt.ylabel('Actual')\n",
    "plt.show()\n"
   ]
  },
  {
   "cell_type": "markdown",
   "id": "fe55e613",
   "metadata": {},
   "source": [
    "# NAIVE BAYES"
   ]
  },
  {
   "cell_type": "code",
   "execution_count": 456,
   "id": "bae309a5",
   "metadata": {},
   "outputs": [],
   "source": [
    "from sklearn.feature_extraction.text import CountVectorizer\n",
    "from sklearn.naive_bayes import MultinomialNB\n",
    "from sklearn.model_selection import train_test_split\n",
    "from sklearn.metrics import classification_report\n",
    "from sklearn.metrics import accuracy_score\n",
    "from sklearn.metrics import precision_score\n",
    "\n",
    "X = final_df['Text']\n",
    "y = final_df['Label']\n",
    "\n",
    "X2_train, X2_test, y2_train, y2_test = train_test_split(X, y, test_size=0.3, random_state = 88)\n",
    "\n",
    "X2_vect = vectorizer.fit_transform(X2_train)\n",
    "\n",
    "naive_classifier = MultinomialNB()\n",
    "\n",
    "naive_classifier.fit(X2_vect, y2_train)\n",
    "\n",
    "y2_pred = naive_classifier.predict(vectorizer.transform(X2_test))"
   ]
  },
  {
   "cell_type": "code",
   "execution_count": 457,
   "id": "f3e35618",
   "metadata": {},
   "outputs": [
    {
     "name": "stdout",
     "output_type": "stream",
     "text": [
      "Overall Accuracy: 0.7358490566037735\n",
      "Overall Precision: 0.7272686433063791\n",
      "Overall Recall: 0.7358490566037735\n",
      "Overall F1 Score: 0.707027001465929\n"
     ]
    },
    {
     "name": "stderr",
     "output_type": "stream",
     "text": [
      "C:\\Users\\DELL\\anaconda3\\lib\\site-packages\\sklearn\\metrics\\_classification.py:1248: UndefinedMetricWarning: Precision is ill-defined and being set to 0.0 in labels with no predicted samples. Use `zero_division` parameter to control this behavior.\n",
      "  _warn_prf(average, modifier, msg_start, len(result))\n",
      "C:\\Users\\DELL\\anaconda3\\lib\\site-packages\\sklearn\\metrics\\_classification.py:1248: UndefinedMetricWarning: Recall is ill-defined and being set to 0.0 in labels with no true samples. Use `zero_division` parameter to control this behavior.\n",
      "  _warn_prf(average, modifier, msg_start, len(result))\n"
     ]
    }
   ],
   "source": [
    "print(\"Overall Accuracy:\",accuracy_score(y2_test,y2_pred))\n",
    "\n",
    "#precision\n",
    "overall_precision = precision_score(y2_test, y2_pred, average='weighted')\n",
    "print(\"Overall Precision:\", overall_precision)\n",
    "\n",
    "# recall\n",
    "overall_recall = recall_score(y2_test, y2_pred, average='weighted')\n",
    "print(\"Overall Recall:\", overall_recall)\n",
    "\n",
    "# F1 score\n",
    "overall_f1_score = f1_score(y2_test, y2_pred, average='weighted')\n",
    "print(\"Overall F1 Score:\", overall_f1_score)\n"
   ]
  },
  {
   "cell_type": "code",
   "execution_count": 458,
   "id": "961fe461",
   "metadata": {},
   "outputs": [
    {
     "name": "stdout",
     "output_type": "stream",
     "text": [
      "              precision    recall  f1-score   support\n",
      "\n",
      "           1       0.81      1.00      0.89        17\n",
      "           2       0.67      0.40      0.50         5\n",
      "           3       0.00      0.00      0.00         2\n",
      "           4       1.00      1.00      1.00         1\n",
      "           5       1.00      0.40      0.57         5\n",
      "           6       0.00      0.00      0.00         0\n",
      "           8       0.00      0.00      0.00         2\n",
      "          10       0.00      0.00      0.00         1\n",
      "          11       0.20      1.00      0.33         1\n",
      "          12       1.00      1.00      1.00         2\n",
      "          14       0.00      0.00      0.00         1\n",
      "          15       1.00      1.00      1.00         1\n",
      "          16       0.75      1.00      0.86         3\n",
      "          17       1.00      1.00      1.00         2\n",
      "          18       1.00      1.00      1.00         3\n",
      "          19       0.00      0.00      0.00         1\n",
      "          20       0.00      0.00      0.00         1\n",
      "          21       1.00      1.00      1.00         5\n",
      "\n",
      "    accuracy                           0.74        53\n",
      "   macro avg       0.52      0.54      0.51        53\n",
      "weighted avg       0.73      0.74      0.71        53\n",
      "\n"
     ]
    },
    {
     "name": "stderr",
     "output_type": "stream",
     "text": [
      "C:\\Users\\DELL\\anaconda3\\lib\\site-packages\\sklearn\\metrics\\_classification.py:1248: UndefinedMetricWarning: Precision and F-score are ill-defined and being set to 0.0 in labels with no predicted samples. Use `zero_division` parameter to control this behavior.\n",
      "  _warn_prf(average, modifier, msg_start, len(result))\n",
      "C:\\Users\\DELL\\anaconda3\\lib\\site-packages\\sklearn\\metrics\\_classification.py:1248: UndefinedMetricWarning: Recall and F-score are ill-defined and being set to 0.0 in labels with no true samples. Use `zero_division` parameter to control this behavior.\n",
      "  _warn_prf(average, modifier, msg_start, len(result))\n",
      "C:\\Users\\DELL\\anaconda3\\lib\\site-packages\\sklearn\\metrics\\_classification.py:1248: UndefinedMetricWarning: Precision and F-score are ill-defined and being set to 0.0 in labels with no predicted samples. Use `zero_division` parameter to control this behavior.\n",
      "  _warn_prf(average, modifier, msg_start, len(result))\n",
      "C:\\Users\\DELL\\anaconda3\\lib\\site-packages\\sklearn\\metrics\\_classification.py:1248: UndefinedMetricWarning: Recall and F-score are ill-defined and being set to 0.0 in labels with no true samples. Use `zero_division` parameter to control this behavior.\n",
      "  _warn_prf(average, modifier, msg_start, len(result))\n",
      "C:\\Users\\DELL\\anaconda3\\lib\\site-packages\\sklearn\\metrics\\_classification.py:1248: UndefinedMetricWarning: Precision and F-score are ill-defined and being set to 0.0 in labels with no predicted samples. Use `zero_division` parameter to control this behavior.\n",
      "  _warn_prf(average, modifier, msg_start, len(result))\n",
      "C:\\Users\\DELL\\anaconda3\\lib\\site-packages\\sklearn\\metrics\\_classification.py:1248: UndefinedMetricWarning: Recall and F-score are ill-defined and being set to 0.0 in labels with no true samples. Use `zero_division` parameter to control this behavior.\n",
      "  _warn_prf(average, modifier, msg_start, len(result))\n"
     ]
    }
   ],
   "source": [
    "print(classification_report(y2_test, y2_pred))"
   ]
  },
  {
   "cell_type": "code",
   "execution_count": 459,
   "id": "6a991456",
   "metadata": {},
   "outputs": [
    {
     "data": {
      "image/png": "[encoded data removed]",
      "text/plain": [
       "<Figure size 576x432 with 1 Axes>"
      ]
     },
     "metadata": {
      "needs_background": "light"
     },
     "output_type": "display_data"
    }
   ],
   "source": [
    "from sklearn.metrics import confusion_matrix\n",
    "import seaborn as sns\n",
    "import matplotlib.pyplot as plt\n",
    "\n",
    "# Compute the confusion matrix\n",
    "cm = confusion_matrix(y2_test, y2_pred)\n",
    "\n",
    "# Display the confusion matrix\n",
    "plt.figure(figsize=(8, 6))\n",
    "sns.heatmap(cm, annot=True, cmap='Blues', fmt='d', cbar=False)\n",
    "plt.xlabel('Predicted')\n",
    "plt.ylabel('Actual')\n",
    "plt.show()\n"
   ]
  },
  {
   "cell_type": "markdown",
   "id": "7296bfdf",
   "metadata": {},
   "source": [
    "# KNN "
   ]
  },
  {
   "cell_type": "code",
   "execution_count": 460,
   "id": "3c35838c",
   "metadata": {},
   "outputs": [],
   "source": [
    "from sklearn.neighbors import KNeighborsClassifier\n",
    "from sklearn.model_selection import train_test_split\n",
    "from sklearn.metrics import accuracy_score\n",
    "\n",
    "X = final_df['Text']\n",
    "y = final_df['Label']\n",
    "\n",
    "X3_train, X3_test, y3_train, y3_test = train_test_split(X, y, test_size=0.3, random_state=88)\n",
    "\n",
    "X3_vect = vectorizer.fit_transform(X3_train)\n",
    "\n",
    "# Create a kNN classifier with k=3\n",
    "k = 3\n",
    "knn = KNeighborsClassifier(n_neighbors=k)\n",
    "\n",
    "# Train the classifier\n",
    "knn.fit(X3_vect, y3_train)\n",
    "\n",
    "# Make predictions on the test set\n",
    "y3_pred = knn.predict(vectorizer.transform(X3_test))"
   ]
  },
  {
   "cell_type": "code",
   "execution_count": 461,
   "id": "944bfa7a",
   "metadata": {},
   "outputs": [
    {
     "name": "stdout",
     "output_type": "stream",
     "text": [
      "Overall Accuracy: 0.7547169811320755\n",
      "Overall Precision: 0.7380503144654087\n",
      "Overall Recall: 0.7547169811320755\n",
      "Overall F1 Score: 0.712414816188401\n"
     ]
    },
    {
     "name": "stderr",
     "output_type": "stream",
     "text": [
      "C:\\Users\\DELL\\anaconda3\\lib\\site-packages\\sklearn\\metrics\\_classification.py:1248: UndefinedMetricWarning: Precision is ill-defined and being set to 0.0 in labels with no predicted samples. Use `zero_division` parameter to control this behavior.\n",
      "  _warn_prf(average, modifier, msg_start, len(result))\n",
      "C:\\Users\\DELL\\anaconda3\\lib\\site-packages\\sklearn\\metrics\\_classification.py:1248: UndefinedMetricWarning: Recall is ill-defined and being set to 0.0 in labels with no true samples. Use `zero_division` parameter to control this behavior.\n",
      "  _warn_prf(average, modifier, msg_start, len(result))\n"
     ]
    }
   ],
   "source": [
    "print(\"Overall Accuracy:\",accuracy_score(y3_test,y3_pred))\n",
    "\n",
    "#precision\n",
    "overall_precision = precision_score(y3_test, y3_pred, average='weighted')\n",
    "print(\"Overall Precision:\", overall_precision)\n",
    "\n",
    "# recall\n",
    "overall_recall = recall_score(y3_test, y3_pred, average='weighted')\n",
    "print(\"Overall Recall:\", overall_recall)\n",
    "\n",
    "# F1 score\n",
    "overall_f1_score = f1_score(y3_test, y3_pred, average='weighted')\n",
    "print(\"Overall F1 Score:\", overall_f1_score)\n"
   ]
  },
  {
   "cell_type": "code",
   "execution_count": 462,
   "id": "0920865a",
   "metadata": {},
   "outputs": [
    {
     "name": "stdout",
     "output_type": "stream",
     "text": [
      "              precision    recall  f1-score   support\n",
      "\n",
      "           1       0.85      1.00      0.92        17\n",
      "           2       0.67      0.80      0.73         5\n",
      "           3       0.00      0.00      0.00         2\n",
      "           4       1.00      1.00      1.00         1\n",
      "           5       1.00      0.20      0.33         5\n",
      "           6       0.00      0.00      0.00         0\n",
      "           8       0.50      0.50      0.50         2\n",
      "          10       0.50      1.00      0.67         1\n",
      "          11       0.00      0.00      0.00         1\n",
      "          12       1.00      1.00      1.00         2\n",
      "          14       0.00      0.00      0.00         1\n",
      "          15       0.50      1.00      0.67         1\n",
      "          16       1.00      1.00      1.00         3\n",
      "          17       0.00      0.00      0.00         2\n",
      "          18       1.00      1.00      1.00         3\n",
      "          19       0.33      1.00      0.50         1\n",
      "          20       0.00      0.00      0.00         1\n",
      "          21       1.00      1.00      1.00         5\n",
      "\n",
      "    accuracy                           0.75        53\n",
      "   macro avg       0.52      0.58      0.52        53\n",
      "weighted avg       0.74      0.75      0.71        53\n",
      "\n"
     ]
    },
    {
     "name": "stderr",
     "output_type": "stream",
     "text": [
      "C:\\Users\\DELL\\anaconda3\\lib\\site-packages\\sklearn\\metrics\\_classification.py:1248: UndefinedMetricWarning: Precision and F-score are ill-defined and being set to 0.0 in labels with no predicted samples. Use `zero_division` parameter to control this behavior.\n",
      "  _warn_prf(average, modifier, msg_start, len(result))\n",
      "C:\\Users\\DELL\\anaconda3\\lib\\site-packages\\sklearn\\metrics\\_classification.py:1248: UndefinedMetricWarning: Recall and F-score are ill-defined and being set to 0.0 in labels with no true samples. Use `zero_division` parameter to control this behavior.\n",
      "  _warn_prf(average, modifier, msg_start, len(result))\n",
      "C:\\Users\\DELL\\anaconda3\\lib\\site-packages\\sklearn\\metrics\\_classification.py:1248: UndefinedMetricWarning: Precision and F-score are ill-defined and being set to 0.0 in labels with no predicted samples. Use `zero_division` parameter to control this behavior.\n",
      "  _warn_prf(average, modifier, msg_start, len(result))\n",
      "C:\\Users\\DELL\\anaconda3\\lib\\site-packages\\sklearn\\metrics\\_classification.py:1248: UndefinedMetricWarning: Recall and F-score are ill-defined and being set to 0.0 in labels with no true samples. Use `zero_division` parameter to control this behavior.\n",
      "  _warn_prf(average, modifier, msg_start, len(result))\n",
      "C:\\Users\\DELL\\anaconda3\\lib\\site-packages\\sklearn\\metrics\\_classification.py:1248: UndefinedMetricWarning: Precision and F-score are ill-defined and being set to 0.0 in labels with no predicted samples. Use `zero_division` parameter to control this behavior.\n",
      "  _warn_prf(average, modifier, msg_start, len(result))\n",
      "C:\\Users\\DELL\\anaconda3\\lib\\site-packages\\sklearn\\metrics\\_classification.py:1248: UndefinedMetricWarning: Recall and F-score are ill-defined and being set to 0.0 in labels with no true samples. Use `zero_division` parameter to control this behavior.\n",
      "  _warn_prf(average, modifier, msg_start, len(result))\n"
     ]
    }
   ],
   "source": [
    "print(classification_report(y3_test, y3_pred))"
   ]
  },
  {
   "cell_type": "code",
   "execution_count": 463,
   "id": "16b0fba0",
   "metadata": {},
   "outputs": [
    {
     "data": {
      "image/png": "[encoded data removed]",
      "text/plain": [
       "<Figure size 576x432 with 1 Axes>"
      ]
     },
     "metadata": {
      "needs_background": "light"
     },
     "output_type": "display_data"
    }
   ],
   "source": [
    "from sklearn.metrics import confusion_matrix\n",
    "import seaborn as sns\n",
    "import matplotlib.pyplot as plt\n",
    "\n",
    "# Compute the confusion matrix\n",
    "cm = confusion_matrix(y3_test, y3_pred)\n",
    "\n",
    "# Display the confusion matrix\n",
    "plt.figure(figsize=(8, 6))\n",
    "sns.heatmap(cm, annot=True, cmap='Blues', fmt='d', cbar=False)\n",
    "plt.xlabel('Predicted')\n",
    "plt.ylabel('Actual')\n",
    "plt.show()\n"
   ]
  },
  {
   "cell_type": "markdown",
   "id": "aae4f69d",
   "metadata": {},
   "source": [
    "# RANDOM FOREST"
   ]
  },
  {
   "cell_type": "code",
   "execution_count": 464,
   "id": "d623e451",
   "metadata": {},
   "outputs": [],
   "source": [
    "from sklearn.ensemble import RandomForestClassifier\n",
    "\n",
    "X = final_df['Text']\n",
    "y = final_df['Label']\n",
    "\n",
    "X4_train, X4_test, y4_train, y4_test = train_test_split(X, y, test_size=0.3,random_state=88)\n",
    "\n",
    "X4_vect = vectorizer.fit_transform(X4_train)\n",
    "\n",
    "rf_classifier = RandomForestClassifier()\n",
    "\n",
    "rf_classifier.fit(X4_vect, y4_train)\n",
    "\n",
    "y4_pred = rf_classifier.predict(vectorizer.transform(X4_test))"
   ]
  },
  {
   "cell_type": "code",
   "execution_count": 465,
   "id": "531e51e6",
   "metadata": {},
   "outputs": [
    {
     "name": "stdout",
     "output_type": "stream",
     "text": [
      "Overall Accuracy: 0.8301886792452831\n",
      "Overall Precision: 0.8194858214719187\n",
      "Overall Recall: 0.8301886792452831\n",
      "Overall F1 Score: 0.8006888289907158\n"
     ]
    },
    {
     "name": "stderr",
     "output_type": "stream",
     "text": [
      "C:\\Users\\DELL\\anaconda3\\lib\\site-packages\\sklearn\\metrics\\_classification.py:1248: UndefinedMetricWarning: Precision is ill-defined and being set to 0.0 in labels with no predicted samples. Use `zero_division` parameter to control this behavior.\n",
      "  _warn_prf(average, modifier, msg_start, len(result))\n"
     ]
    }
   ],
   "source": [
    "print(\"Overall Accuracy:\",accuracy_score(y4_test,y4_pred))\n",
    "\n",
    "#precision\n",
    "overall_precision = precision_score(y4_test, y4_pred, average='weighted')\n",
    "print(\"Overall Precision:\", overall_precision)\n",
    "\n",
    "# recall\n",
    "overall_recall = recall_score(y4_test, y4_pred, average='weighted')\n",
    "print(\"Overall Recall:\", overall_recall)\n",
    "\n",
    "# F1 score\n",
    "overall_f1_score = f1_score(y4_test, y4_pred, average='weighted')\n",
    "print(\"Overall F1 Score:\", overall_f1_score)\n"
   ]
  },
  {
   "cell_type": "code",
   "execution_count": 466,
   "id": "4d69c80f",
   "metadata": {},
   "outputs": [
    {
     "name": "stdout",
     "output_type": "stream",
     "text": [
      "              precision    recall  f1-score   support\n",
      "\n",
      "           1       0.89      1.00      0.94        17\n",
      "           2       0.44      0.80      0.57         5\n",
      "           3       0.00      0.00      0.00         2\n",
      "           4       1.00      1.00      1.00         1\n",
      "           5       1.00      0.40      0.57         5\n",
      "           8       1.00      0.50      0.67         2\n",
      "          10       0.50      1.00      0.67         1\n",
      "          11       1.00      1.00      1.00         1\n",
      "          12       1.00      1.00      1.00         2\n",
      "          14       1.00      1.00      1.00         1\n",
      "          15       1.00      1.00      1.00         1\n",
      "          16       1.00      1.00      1.00         3\n",
      "          17       0.00      0.00      0.00         2\n",
      "          18       1.00      1.00      1.00         3\n",
      "          19       0.50      1.00      0.67         1\n",
      "          20       1.00      1.00      1.00         1\n",
      "          21       1.00      1.00      1.00         5\n",
      "\n",
      "    accuracy                           0.83        53\n",
      "   macro avg       0.78      0.81      0.77        53\n",
      "weighted avg       0.82      0.83      0.80        53\n",
      "\n"
     ]
    },
    {
     "name": "stderr",
     "output_type": "stream",
     "text": [
      "C:\\Users\\DELL\\anaconda3\\lib\\site-packages\\sklearn\\metrics\\_classification.py:1248: UndefinedMetricWarning: Precision and F-score are ill-defined and being set to 0.0 in labels with no predicted samples. Use `zero_division` parameter to control this behavior.\n",
      "  _warn_prf(average, modifier, msg_start, len(result))\n",
      "C:\\Users\\DELL\\anaconda3\\lib\\site-packages\\sklearn\\metrics\\_classification.py:1248: UndefinedMetricWarning: Precision and F-score are ill-defined and being set to 0.0 in labels with no predicted samples. Use `zero_division` parameter to control this behavior.\n",
      "  _warn_prf(average, modifier, msg_start, len(result))\n",
      "C:\\Users\\DELL\\anaconda3\\lib\\site-packages\\sklearn\\metrics\\_classification.py:1248: UndefinedMetricWarning: Precision and F-score are ill-defined and being set to 0.0 in labels with no predicted samples. Use `zero_division` parameter to control this behavior.\n",
      "  _warn_prf(average, modifier, msg_start, len(result))\n"
     ]
    }
   ],
   "source": [
    "print(classification_report(y4_test, y4_pred))"
   ]
  },
  {
   "cell_type": "code",
   "execution_count": 467,
   "id": "5ef36b4c",
   "metadata": {},
   "outputs": [
    {
     "data": {
      "image/png": "[encoded data removed]",
      "text/plain": [
       "<Figure size 576x432 with 1 Axes>"
      ]
     },
     "metadata": {
      "needs_background": "light"
     },
     "output_type": "display_data"
    }
   ],
   "source": [
    "from sklearn.metrics import confusion_matrix\n",
    "import seaborn as sns\n",
    "import matplotlib.pyplot as plt\n",
    "\n",
    "# Compute the confusion matrix\n",
    "cm = confusion_matrix(y4_test, y4_pred)\n",
    "\n",
    "# Display the confusion matrix\n",
    "plt.figure(figsize=(8, 6))\n",
    "sns.heatmap(cm, annot=True, cmap='Blues', fmt='d', cbar=False)\n",
    "plt.xlabel('Predicted')\n",
    "plt.ylabel('Actual')\n",
    "plt.show()\n"
   ]
  },
  {
   "cell_type": "code",
   "execution_count": 468,
   "id": "3a8ae2c3",
   "metadata": {},
   "outputs": [],
   "source": [
    "class_labels = ['OTHER LAB REPORT', 'BLOOD TEST REPORT', 'HAEMATOLOGY REPORT', 'TUMOR MARKER REPORT', 'URINE TEST REPORT', 'COMPREHENSIVE METABOLIC PANEL REPORT', 'C-REACTIVE PROTEIN REPORT', 'DIABETES REPORT', 'GENETIC TESTING REPORT', 'KIDNEY TESTS REPORT', 'LIPID PANEL REPORT', 'BCRASSURE REPORT', 'CHROMOSOME ANALYSIS REPORT', 'FIRST SCREEN REPORT', 'FRAGILE X REPORT', 'INHERITEST REPORT', 'MATERNITY REPORT', 'REVEAL SNP MICROARRAY REPORT', 'SEQUENTIAL SCREEN REPORT', 'SPINAL MUSCULAR ATROPHY SMA REPORT', 'VISTASEQ REPORT']\n",
    "def find_class_label(label):\n",
    "    return class_labels[label-1]"
   ]
  },
  {
   "cell_type": "markdown",
   "id": "d923bc8e",
   "metadata": {},
   "source": [
    "# TEST DATA 1"
   ]
  },
  {
   "cell_type": "markdown",
   "id": "c6ac3e43",
   "metadata": {},
   "source": [
    "ORIGINAL DATA BELONGS TO CLASS TUMOR MARKER"
   ]
  },
  {
   "cell_type": "code",
   "execution_count": 469,
   "id": "fed322f7",
   "metadata": {},
   "outputs": [],
   "source": [
    "testdata1_X_test = '2215 Winkler Avenue Suite Fort Myers FL 33901 oe Smaps Panel Test Results Toll Free 1 888 GET LABS RSO NADA Test results provided Quest Tel 239 337 5227 Fax 239 334 6310 Email Specimen Number Patient ID Control Req Account XX123456X 12345678 12345678 12345678 Patient First Name Patient Last Name Medical Directors Comments sample Report You taken first step active participant Patient Phone Age healthcare These results intended informational purposes If 888 438 5227 32 questions concerns regarding results please discuss Date Of Birth Gender Fasting healthcare provider A helpful link understanding results September 11 1984 Male N found Patient Address 2215 Winkler Avenue Fort Myers FL 33901 Collected Received Reported 1 93 2017 1 15 00 PM 1 13 2017 1 1 14 2017 10 33 00 AM Products Ordered Prostate specific Antigen PSA Tests Ordered Prostate specific Antigen PSA Additional Information Sample Report General Comments PSA TOTAL PSA TOTAL 0 9 N OR 4 0 ng mL RGA This test performed using Siemens chemiluminescent method Values obtained different assay methods cannot used interchangeably PSA levels regardless value interpreted absolut evidence presence absence disease Flags H High L Low N Normal O1 RGA Quest Diagnostics Houston Lab 5850 Rogerdale Road Houston TX MD Julia Kenny jone These lab results information They intended diagnosis treatment Please feel free discuss results health care provider'"
   ]
  },
  {
   "cell_type": "code",
   "execution_count": 470,
   "id": "7f2c31b2",
   "metadata": {},
   "outputs": [],
   "source": [
    "testdata1_X_test = testdata1_X_test.lower()"
   ]
  },
  {
   "cell_type": "code",
   "execution_count": 471,
   "id": "2a43aec1",
   "metadata": {},
   "outputs": [],
   "source": [
    "testdata1_X_test = [testdata1_X_test]"
   ]
  },
  {
   "cell_type": "code",
   "execution_count": 472,
   "id": "97486875",
   "metadata": {},
   "outputs": [
    {
     "name": "stdout",
     "output_type": "stream",
     "text": [
      "['2215 winkler avenue suite fort myers fl 33901 oe smaps panel test results toll free 1 888 get labs rso nada test results provided quest tel 239 337 5227 fax 239 334 6310 email specimen number patient id control req account xx123456x 12345678 12345678 12345678 patient first name patient last name medical directors comments sample report you taken first step active participant patient phone age healthcare these results intended informational purposes if 888 438 5227 32 questions concerns regarding results please discuss date of birth gender fasting healthcare provider a helpful link understanding results september 11 1984 male n found patient address 2215 winkler avenue fort myers fl 33901 collected received reported 1 93 2017 1 15 00 pm 1 13 2017 1 1 14 2017 10 33 00 am products ordered prostate specific antigen psa tests ordered prostate specific antigen psa additional information sample report general comments psa total psa total 0 9 n or 4 0 ng ml rga this test performed using siemens chemiluminescent method values obtained different assay methods cannot used interchangeably psa levels regardless value interpreted absolut evidence presence absence disease flags h high l low n normal o1 rga quest diagnostics houston lab 5850 rogerdale road houston tx md julia kenny jone these lab results information they intended diagnosis treatment please feel free discuss results health care provider']\n"
     ]
    }
   ],
   "source": [
    "print(testdata1_X_test)"
   ]
  },
  {
   "cell_type": "code",
   "execution_count": 473,
   "id": "ac8d5d17",
   "metadata": {},
   "outputs": [
    {
     "name": "stdout",
     "output_type": "stream",
     "text": [
      "OTHER LAB REPORT\n"
     ]
    }
   ],
   "source": [
    "#SVM\n",
    "testdata1_pred = svm_classifier.predict(vectorizer.transform(testdata1_X_test))\n",
    "print(find_class_label(testdata1_pred[0]))"
   ]
  },
  {
   "cell_type": "code",
   "execution_count": 474,
   "id": "42ccf64a",
   "metadata": {},
   "outputs": [
    {
     "name": "stdout",
     "output_type": "stream",
     "text": [
      "BLOOD TEST REPORT\n"
     ]
    }
   ],
   "source": [
    "# KNN\n",
    "testdata1_pred = knn.predict(vectorizer.transform(testdata1_X_test))\n",
    "print(find_class_label(testdata1_pred[0]))\n"
   ]
  },
  {
   "cell_type": "code",
   "execution_count": 475,
   "id": "9c1bf67f",
   "metadata": {},
   "outputs": [
    {
     "name": "stdout",
     "output_type": "stream",
     "text": [
      "TUMOR MARKER REPORT\n"
     ]
    }
   ],
   "source": [
    "# LOGISTIC\n",
    "testdata1_pred = logistic_classifier.predict(vectorizer.transform(testdata1_X_test))\n",
    "print(find_class_label(testdata1_pred[0]))"
   ]
  },
  {
   "cell_type": "code",
   "execution_count": 476,
   "id": "dc652bd5",
   "metadata": {},
   "outputs": [
    {
     "name": "stdout",
     "output_type": "stream",
     "text": [
      "BLOOD TEST REPORT\n"
     ]
    }
   ],
   "source": [
    "# NAIVE BAYES\n",
    "testdata1_pred = naive_classifier.predict(vectorizer.transform(testdata1_X_test))\n",
    "print(find_class_label(testdata1_pred[0]))"
   ]
  },
  {
   "cell_type": "code",
   "execution_count": 477,
   "id": "bcdafbc9",
   "metadata": {},
   "outputs": [
    {
     "name": "stdout",
     "output_type": "stream",
     "text": [
      "TUMOR MARKER REPORT\n"
     ]
    }
   ],
   "source": [
    "# RANDOM FOREST\n",
    "testdata1_pred = rf_classifier.predict(vectorizer.transform(testdata1_X_test))\n",
    "print(find_class_label(testdata1_pred[0]))"
   ]
  },
  {
   "cell_type": "markdown",
   "id": "ce14cd14",
   "metadata": {},
   "source": [
    "# TEST DATA 2 "
   ]
  },
  {
   "cell_type": "markdown",
   "id": "17337ca6",
   "metadata": {},
   "source": [
    "THE ORIGINAL DATA BELONGS TO CLASS OTHER LAB REPORTS"
   ]
  },
  {
   "cell_type": "code",
   "execution_count": 478,
   "id": "4d02ff58",
   "metadata": {},
   "outputs": [],
   "source": [
    "testdata2_X_test = 'A S O TITRE IN PATIENT S SERUMPATIENT NAME MR KETAN CHAVAN Male CRYSTAL LAB 5 29 Years REF BY DR LAB NO SEXDATE SAMPLE COLL AT12 Aug 2011 DR PATIL M B B S AGE NORMAL VALUES RESULT TEST Result Negative TITRE 1 8 Method Immuno Turbidometry End Report Dr Pankaj Shah M D M B B S Chandan Vartak D M L T Highlighted Result Values Indicate Abnormal Report Printed By My Lab'"
   ]
  },
  {
   "cell_type": "code",
   "execution_count": 479,
   "id": "e79ab496",
   "metadata": {},
   "outputs": [],
   "source": [
    "testdata2_X_test = testdata2_X_test.lower()"
   ]
  },
  {
   "cell_type": "code",
   "execution_count": 480,
   "id": "ebc79b1d",
   "metadata": {},
   "outputs": [],
   "source": [
    "testdata2_X_test = [testdata2_X_test]"
   ]
  },
  {
   "cell_type": "code",
   "execution_count": 481,
   "id": "aa728117",
   "metadata": {},
   "outputs": [
    {
     "name": "stdout",
     "output_type": "stream",
     "text": [
      "['a s o titre in patient s serumpatient name mr ketan chavan male crystal lab 5 29 years ref by dr lab no sexdate sample coll at12 aug 2011 dr patil m b b s age normal values result test result negative titre 1 8 method immuno turbidometry end report dr pankaj shah m d m b b s chandan vartak d m l t highlighted result values indicate abnormal report printed by my lab']\n"
     ]
    }
   ],
   "source": [
    "print(testdata2_X_test)"
   ]
  },
  {
   "cell_type": "code",
   "execution_count": 482,
   "id": "a2fe6162",
   "metadata": {},
   "outputs": [
    {
     "name": "stdout",
     "output_type": "stream",
     "text": [
      "TUMOR MARKER REPORT\n"
     ]
    }
   ],
   "source": [
    "# SVM\n",
    "testdata2_pred = svm_classifier.predict(vectorizer.transform(testdata2_X_test))\n",
    "print(find_class_label(testdata1_pred[0]))"
   ]
  },
  {
   "cell_type": "code",
   "execution_count": 483,
   "id": "871cfbfd",
   "metadata": {},
   "outputs": [
    {
     "name": "stdout",
     "output_type": "stream",
     "text": [
      "OTHER LAB REPORT\n"
     ]
    }
   ],
   "source": [
    "# KNN\n",
    "testdata2_pred = knn.predict(vectorizer.transform(testdata2_X_test))\n",
    "print(find_class_label(testdata2_pred[0]))"
   ]
  },
  {
   "cell_type": "code",
   "execution_count": 484,
   "id": "ee8638ec",
   "metadata": {},
   "outputs": [
    {
     "name": "stdout",
     "output_type": "stream",
     "text": [
      "OTHER LAB REPORT\n"
     ]
    }
   ],
   "source": [
    "# LOGISTIC\n",
    "testdata2_pred = logistic_classifier.predict(vectorizer.transform(testdata2_X_test))\n",
    "print(find_class_label(testdata2_pred[0]))"
   ]
  },
  {
   "cell_type": "code",
   "execution_count": 485,
   "id": "d290dbd7",
   "metadata": {},
   "outputs": [
    {
     "name": "stdout",
     "output_type": "stream",
     "text": [
      "OTHER LAB REPORT\n"
     ]
    }
   ],
   "source": [
    "# NAIVE BAYES\n",
    "testdata2_pred = naive_classifier.predict(vectorizer.transform(testdata2_X_test))\n",
    "print(find_class_label(testdata2_pred[0]))"
   ]
  },
  {
   "cell_type": "code",
   "execution_count": 486,
   "id": "b974c3c8",
   "metadata": {},
   "outputs": [
    {
     "name": "stdout",
     "output_type": "stream",
     "text": [
      "OTHER LAB REPORT\n"
     ]
    }
   ],
   "source": [
    "# RANDOM FOREST\n",
    "testdata2_pred = rf_classifier.predict(vectorizer.transform(testdata2_X_test))\n",
    "print(find_class_label(testdata2_pred[0]))"
   ]
  },
  {
   "cell_type": "markdown",
   "id": "7dbb1bf0",
   "metadata": {},
   "source": [
    "# TEST DATA 3"
   ]
  },
  {
   "cell_type": "markdown",
   "id": "3ffb358f",
   "metadata": {},
   "source": [
    "THE ORIGINAL DATA BELONGS TO DIABETES REPORTS"
   ]
  },
  {
   "cell_type": "code",
   "execution_count": 487,
   "id": "1d328501",
   "metadata": {},
   "outputs": [],
   "source": [
    "from pdfminer.high_level import extract_text\n",
    "\n",
    "def extract_text_from_pdf(file_path):\n",
    "    text = extract_text(file_path)\n",
    "    return text\n",
    "\n",
    "pdf_file = 'testdata3.pdf'\n",
    "testdata3_X_test = extract_text_from_pdf(pdf_file)\n",
    "#print(testdata3_X_test)\n"
   ]
  },
  {
   "cell_type": "code",
   "execution_count": 488,
   "id": "a3ccf2f9",
   "metadata": {},
   "outputs": [],
   "source": [
    "testdata3_X_test = testdata3_X_test.replace('\\n', ' ').replace('\\r', ' ')"
   ]
  },
  {
   "cell_type": "code",
   "execution_count": 489,
   "id": "a2487a94",
   "metadata": {},
   "outputs": [],
   "source": [
    "#ADD DATA TO DATAFRAME\n",
    "\n",
    "import pandas as pd\n",
    "\n",
    "data2 = testdata3_X_test \n",
    "data1 = []\n",
    "data1.extend([8] * 1)\n",
    "\n",
    "td3_df = pd.DataFrame(columns=['Label', 'Text'])\n",
    "td3_df['Label'] = data1\n",
    "td3_df['Text'] = data2\n"
   ]
  },
  {
   "cell_type": "code",
   "execution_count": 490,
   "id": "6343f25a",
   "metadata": {},
   "outputs": [],
   "source": [
    "td3_df['Text'] = td3_df['Text'].apply(lambda x: x.lower())"
   ]
  },
  {
   "cell_type": "code",
   "execution_count": 491,
   "id": "8e277665",
   "metadata": {},
   "outputs": [],
   "source": [
    "td3_df['Text']  = td3_df['Text'] .apply(email)"
   ]
  },
  {
   "cell_type": "code",
   "execution_count": 492,
   "id": "a2ddf697",
   "metadata": {},
   "outputs": [],
   "source": [
    "td3_df['Text']  = td3_df['Text'] .apply(url)"
   ]
  },
  {
   "cell_type": "code",
   "execution_count": 493,
   "id": "4c3ac1f4",
   "metadata": {},
   "outputs": [],
   "source": [
    "td3_df['Text']  = td3_df['Text'] .apply(sc)"
   ]
  },
  {
   "cell_type": "code",
   "execution_count": 494,
   "id": "8e9a472b",
   "metadata": {},
   "outputs": [],
   "source": [
    "td3_df['Text']  = td3_df['Text'] .apply(sw)"
   ]
  },
  {
   "cell_type": "code",
   "execution_count": 495,
   "id": "34b44bce",
   "metadata": {},
   "outputs": [],
   "source": [
    "testdata3_X_test = [testdata3_X_test]"
   ]
  },
  {
   "cell_type": "code",
   "execution_count": 496,
   "id": "033ee728",
   "metadata": {},
   "outputs": [
    {
     "name": "stdout",
     "output_type": "stream",
     "text": [
      "OTHER LAB REPORT\n"
     ]
    }
   ],
   "source": [
    "# SVM\n",
    "testdata3_pred = svm_classifier.predict(vectorizer.transform(testdata3_X_test))\n",
    "print(find_class_label(testdata3_pred[0]))"
   ]
  },
  {
   "cell_type": "code",
   "execution_count": 497,
   "id": "cb9a5456",
   "metadata": {},
   "outputs": [
    {
     "name": "stdout",
     "output_type": "stream",
     "text": [
      "DIABETES REPORT\n"
     ]
    }
   ],
   "source": [
    "# KNN\n",
    "testdata3_pred = knn.predict(vectorizer.transform(testdata3_X_test))\n",
    "print(find_class_label(testdata3_pred[0]))"
   ]
  },
  {
   "cell_type": "code",
   "execution_count": 498,
   "id": "d2139c33",
   "metadata": {},
   "outputs": [
    {
     "name": "stdout",
     "output_type": "stream",
     "text": [
      "DIABETES REPORT\n"
     ]
    }
   ],
   "source": [
    "# LOGISTIC\n",
    "testdata3_pred = logistic_classifier.predict(vectorizer.transform(testdata3_X_test))\n",
    "print(find_class_label(testdata3_pred[0]))"
   ]
  },
  {
   "cell_type": "code",
   "execution_count": 499,
   "id": "27ad0524",
   "metadata": {},
   "outputs": [
    {
     "name": "stdout",
     "output_type": "stream",
     "text": [
      "LIPID PANEL REPORT\n"
     ]
    }
   ],
   "source": [
    "# NAIVE BAYES\n",
    "testdata3_pred = naive_classifier.predict(vectorizer.transform(testdata3_X_test))\n",
    "print(find_class_label(testdata3_pred[0]))"
   ]
  },
  {
   "cell_type": "code",
   "execution_count": 500,
   "id": "44f491b9",
   "metadata": {},
   "outputs": [
    {
     "name": "stdout",
     "output_type": "stream",
     "text": [
      "DIABETES REPORT\n"
     ]
    }
   ],
   "source": [
    "# RANDOM FOREST\n",
    "testdata3_pred = rf_classifier.predict(vectorizer.transform(testdata3_X_test))\n",
    "print(find_class_label(testdata3_pred[0]))"
   ]
  },
  {
   "cell_type": "markdown",
   "id": "71198f3a",
   "metadata": {},
   "source": [
    "# TEST DATA 4 "
   ]
  },
  {
   "cell_type": "markdown",
   "id": "012b581b",
   "metadata": {},
   "source": [
    "THE ORIGINAL DATA BELONGS TO BLOOD TEST REPORTS"
   ]
  },
  {
   "cell_type": "code",
   "execution_count": 501,
   "id": "19541b1d",
   "metadata": {},
   "outputs": [
    {
     "name": "stdout",
     "output_type": "stream",
     "text": [
      "['2215 Winkler Avenue, Suite |\\nFort Myers, FL 33901\\n\\nJ\\nBrevreriaon Panel Test Results Toll Free: 1 888 GET LABS\\nPERSONAIABS (Fei keslbe preioired by Cin Tek-239 337 5227 Fax 239 334 6310\\n\\nEmail: info@personalabs.com\\n\\nSpecimen Number: Patient ID: Control/Req. # Account #\\n\\nXX123456X 12345678 12345678 12345678\\n\\nPatient First Name: Patient Last Name: Medical Directors Comments\\n\\nsample Report You have now taken the first step to being an active participant in your\\nPatient Phone: Age: healthcare. These results are intended for informational purposes only. As you\\n888-438-5227 32 review your results you will see that you have results that are outside the normal\\nDate Of Birth: Gender: Fasting: range. These results should be reviewed and discussed with your healthcare\\nSeptember 11, 1984 Male N provider in order to better understand how they relate to your particular\\nPatient Address: situation or medical condition. A helpful link to understanding your test results\\n2215 Winkler Avenue can be found at http://www. labtestsonline.org\\n\\nFort Myers, FL 33901\\n\\nCollected: Received:\\n\\n12/30/2016 5:39:00 PM 12/30/2016 6:\\n\\nProducts Ordered:\\nG-Reactive Protein (CRP), Quantitative\\n\\nTests Ordered:\\nG-Reactive Protein (CRP), Quantitative\\n\\nAdditional Information:\\n‘Sample Report\\n\\nGeneral Comments:\\n\\nC-REACTIVE PROTEIN\\nC-REACTIVE PROTEIN 0.94 H <0.80 mg/dL ic}\\nbe advised that patients taking Carbox! cillins\\n\\nexhibit falsely 4 ed C-Reactive\\n\\nto an analytical in\\n\\nFlags - H = High L = Low N = Normal\\n\\nO1:IG Quest Diagnostics-Dallas Lab, 4770 Regent Blvd, Irving, TX Phone: Dr Robert L Breckenridge\\n\\n‘These lab results are for information only. They are not intended for diagnosis or treatment, Please feel free to discuss your results with your health\\ncare provider.\\n']\n"
     ]
    }
   ],
   "source": [
    "from sklearn.svm import SVC\n",
    "from sklearn.feature_extraction.text import TfidfVectorizer\n",
    "from PIL import Image\n",
    "import pytesseract\n",
    "import numpy as np\n",
    "\n",
    "image_path = 'testdata4.jpg'\n",
    "testdata4_X_test = []\n",
    "image = Image.open(image_path)\n",
    "text = pytesseract.image_to_string(image)\n",
    "testdata4_X_test.append(text)\n",
    "\n",
    "print(testdata4_X_test)"
   ]
  },
  {
   "cell_type": "code",
   "execution_count": 502,
   "id": "cf333ad7",
   "metadata": {},
   "outputs": [],
   "source": [
    "testdata4_X_test = [string.replace(r'\\r\\n|\\n|\\r', ' ') for string in testdata4_X_test]"
   ]
  },
  {
   "cell_type": "code",
   "execution_count": 503,
   "id": "42d2757b",
   "metadata": {},
   "outputs": [],
   "source": [
    "#ADD DATA TO DATAFRAME\n",
    "\n",
    "import pandas as pd\n",
    "\n",
    "data2 = testdata4_X_test \n",
    "data1 = []\n",
    "data1.extend([2] * 1)\n",
    "\n",
    "rd_df = pd.DataFrame(columns=['Label', 'Text'])\n",
    "rd_df['Label'] = data1\n",
    "rd_df['Text'] = data2\n"
   ]
  },
  {
   "cell_type": "code",
   "execution_count": 504,
   "id": "b3e578ac",
   "metadata": {},
   "outputs": [
    {
     "data": {
      "text/html": [
       "<div>\n",
       "<style scoped>\n",
       "    .dataframe tbody tr th:only-of-type {\n",
       "        vertical-align: middle;\n",
       "    }\n",
       "\n",
       "    .dataframe tbody tr th {\n",
       "        vertical-align: top;\n",
       "    }\n",
       "\n",
       "    .dataframe thead th {\n",
       "        text-align: right;\n",
       "    }\n",
       "</style>\n",
       "<table border=\"1\" class=\"dataframe\">\n",
       "  <thead>\n",
       "    <tr style=\"text-align: right;\">\n",
       "      <th></th>\n",
       "      <th>Label</th>\n",
       "      <th>Text</th>\n",
       "    </tr>\n",
       "  </thead>\n",
       "  <tbody>\n",
       "    <tr>\n",
       "      <th>0</th>\n",
       "      <td>2</td>\n",
       "      <td>2215 Winkler Avenue, Suite |\\nFort Myers, FL 3...</td>\n",
       "    </tr>\n",
       "  </tbody>\n",
       "</table>\n",
       "</div>"
      ],
      "text/plain": [
       "   Label                                               Text\n",
       "0      2  2215 Winkler Avenue, Suite |\\nFort Myers, FL 3..."
      ]
     },
     "execution_count": 504,
     "metadata": {},
     "output_type": "execute_result"
    }
   ],
   "source": [
    "rd_df"
   ]
  },
  {
   "cell_type": "code",
   "execution_count": 505,
   "id": "be6e46d3",
   "metadata": {},
   "outputs": [],
   "source": [
    "rd_df['Text'] = rd_df['Text'].apply(lambda x: x.lower())"
   ]
  },
  {
   "cell_type": "code",
   "execution_count": 506,
   "id": "e21227a3",
   "metadata": {},
   "outputs": [],
   "source": [
    "rd_df['Text']  = rd_df['Text'] .apply(email)"
   ]
  },
  {
   "cell_type": "code",
   "execution_count": 507,
   "id": "53fb556f",
   "metadata": {},
   "outputs": [],
   "source": [
    "rd_df['Text']  = rd_df['Text'] .apply(url)"
   ]
  },
  {
   "cell_type": "code",
   "execution_count": 508,
   "id": "69aca87e",
   "metadata": {},
   "outputs": [],
   "source": [
    "rd_df['Text']  = rd_df['Text'] .apply(sc)"
   ]
  },
  {
   "cell_type": "code",
   "execution_count": 509,
   "id": "de6c4e6a",
   "metadata": {},
   "outputs": [],
   "source": [
    "rd_df['Text']  = rd_df['Text'] .apply(sw)"
   ]
  },
  {
   "cell_type": "code",
   "execution_count": 510,
   "id": "759c665a",
   "metadata": {},
   "outputs": [],
   "source": [
    "testdata4_X_test = rd_df['Text'][0]"
   ]
  },
  {
   "cell_type": "code",
   "execution_count": 511,
   "id": "92bff4c2",
   "metadata": {},
   "outputs": [],
   "source": [
    "testdata4_X_test = [testdata4_X_test]"
   ]
  },
  {
   "cell_type": "code",
   "execution_count": 512,
   "id": "d6568355",
   "metadata": {},
   "outputs": [
    {
     "name": "stdout",
     "output_type": "stream",
     "text": [
      "OTHER LAB REPORT\n"
     ]
    }
   ],
   "source": [
    "# SVM\n",
    "testdata4_pred = svm_classifier.predict(vectorizer.transform(testdata4_X_test))\n",
    "print(find_class_label(testdata4_pred[0]))"
   ]
  },
  {
   "cell_type": "code",
   "execution_count": 513,
   "id": "771e43b3",
   "metadata": {},
   "outputs": [
    {
     "name": "stdout",
     "output_type": "stream",
     "text": [
      "BLOOD TEST REPORT\n"
     ]
    }
   ],
   "source": [
    "# KNN\n",
    "testdata4_pred = knn.predict(vectorizer.transform(testdata4_X_test))\n",
    "print(find_class_label(testdata4_pred[0]))"
   ]
  },
  {
   "cell_type": "code",
   "execution_count": 514,
   "id": "7c7c9cb4",
   "metadata": {},
   "outputs": [
    {
     "name": "stdout",
     "output_type": "stream",
     "text": [
      "BLOOD TEST REPORT\n"
     ]
    }
   ],
   "source": [
    "testdata4_pred = logistic_classifier.predict(vectorizer.transform(testdata4_X_test))\n",
    "print(find_class_label(testdata4_pred[0]))"
   ]
  },
  {
   "cell_type": "code",
   "execution_count": 515,
   "id": "f4f0f95a",
   "metadata": {},
   "outputs": [
    {
     "name": "stdout",
     "output_type": "stream",
     "text": [
      "BLOOD TEST REPORT\n"
     ]
    }
   ],
   "source": [
    "# SVM\n",
    "testdata4_pred = naive_classifier.predict(vectorizer.transform(testdata4_X_test))\n",
    "print(find_class_label(testdata4_pred[0]))"
   ]
  },
  {
   "cell_type": "code",
   "execution_count": 516,
   "id": "edcb12af",
   "metadata": {},
   "outputs": [
    {
     "name": "stdout",
     "output_type": "stream",
     "text": [
      "BLOOD TEST REPORT\n"
     ]
    }
   ],
   "source": [
    "# SVM\n",
    "testdata4_pred = rf_classifier.predict(vectorizer.transform(testdata4_X_test))\n",
    "print(find_class_label(testdata4_pred[0]))"
   ]
  }
 ],
 "metadata": {
  "kernelspec": {
   "display_name": "Python 3 (ipykernel)",
   "language": "python",
   "name": "python3"
  },
  "language_info": {
   "codemirror_mode": {
    "name": "ipython",
    "version": 3
   },
   "file_extension": ".py",
   "mimetype": "text/x-python",
   "name": "python",
   "nbconvert_exporter": "python",
   "pygments_lexer": "ipython3",
   "version": "3.9.7"
  }
 },
 "nbformat": 4,
 "nbformat_minor": 5
}
